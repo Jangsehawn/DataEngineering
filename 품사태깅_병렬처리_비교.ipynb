{
  "nbformat": 4,
  "nbformat_minor": 0,
  "metadata": {
    "colab": {
      "name": "품사태깅_병렬처리_비교",
      "provenance": []
    },
    "kernelspec": {
      "name": "python3",
      "display_name": "Python 3"
    },
    "language_info": {
      "name": "python"
    }
  },
  "cells": [
    {
      "cell_type": "code",
      "metadata": {
        "colab": {
          "base_uri": "https://localhost:8080/"
        },
        "id": "TkEZuI23BwFZ",
        "outputId": "e5db37ca-e45a-4e1c-f02d-ea1e86351a96"
      },
      "source": [
        "from google.colab import drive\n",
        "\n",
        "drive.mount('/content/drive')"
      ],
      "execution_count": 1,
      "outputs": [
        {
          "output_type": "stream",
          "name": "stdout",
          "text": [
            "Mounted at /content/drive\n"
          ]
        }
      ]
    },
    {
      "cell_type": "code",
      "metadata": {
        "colab": {
          "base_uri": "https://localhost:8080/"
        },
        "id": "q0rWULa5BxAa",
        "outputId": "2cd3fdac-3963-436e-acef-e08044a9a64f"
      },
      "source": [
        "import nltk\n",
        "nltk.download('punkt')"
      ],
      "execution_count": 2,
      "outputs": [
        {
          "output_type": "stream",
          "name": "stdout",
          "text": [
            "[nltk_data] Downloading package punkt to /root/nltk_data...\n",
            "[nltk_data]   Unzipping tokenizers/punkt.zip.\n"
          ]
        },
        {
          "output_type": "execute_result",
          "data": {
            "text/plain": [
              "True"
            ]
          },
          "metadata": {},
          "execution_count": 2
        }
      ]
    },
    {
      "cell_type": "code",
      "metadata": {
        "id": "I5T-M5OIBxCH"
      },
      "source": [
        "from nltk.corpus import stopwords\n",
        "from nltk.tokenize import word_tokenize\n",
        "import pandas as pd"
      ],
      "execution_count": 3,
      "outputs": []
    },
    {
      "cell_type": "code",
      "metadata": {
        "id": "QqJXiCBWBxFL"
      },
      "source": [
        "import os\n",
        "os.chdir('/content/drive')"
      ],
      "execution_count": 4,
      "outputs": []
    },
    {
      "cell_type": "code",
      "metadata": {
        "id": "2vJ1theEBxGu"
      },
      "source": [
        "stopwords=open(\"/content/drive/MyDrive/한국어불용어100_.txt\",'r',encoding='UTF8')\n",
        "stop=stopwords.read()\n",
        "stop=stop.split()"
      ],
      "execution_count": 5,
      "outputs": []
    },
    {
      "cell_type": "code",
      "metadata": {
        "id": "Sk_5KSA9BxJ7"
      },
      "source": [
        "# 불용어 처리 함수\n",
        "def stopword(word_tokenize):\n",
        "  return [w for w in word_tokenize if w not in stop_list]"
      ],
      "execution_count": 6,
      "outputs": []
    },
    {
      "cell_type": "code",
      "metadata": {
        "colab": {
          "base_uri": "https://localhost:8080/"
        },
        "id": "x0JeDQSMCQDj",
        "outputId": "e2ac4259-81f3-4e98-ae2e-83a040ec2a4a"
      },
      "source": [
        "!pip install konlpy"
      ],
      "execution_count": 7,
      "outputs": [
        {
          "output_type": "stream",
          "name": "stdout",
          "text": [
            "Collecting konlpy\n",
            "  Downloading konlpy-0.5.2-py2.py3-none-any.whl (19.4 MB)\n",
            "\u001b[K     |████████████████████████████████| 19.4 MB 1.3 MB/s \n",
            "\u001b[?25hRequirement already satisfied: tweepy>=3.7.0 in /usr/local/lib/python3.7/dist-packages (from konlpy) (3.10.0)\n",
            "Requirement already satisfied: lxml>=4.1.0 in /usr/local/lib/python3.7/dist-packages (from konlpy) (4.2.6)\n",
            "Collecting beautifulsoup4==4.6.0\n",
            "  Downloading beautifulsoup4-4.6.0-py3-none-any.whl (86 kB)\n",
            "\u001b[K     |████████████████████████████████| 86 kB 5.9 MB/s \n",
            "\u001b[?25hRequirement already satisfied: numpy>=1.6 in /usr/local/lib/python3.7/dist-packages (from konlpy) (1.19.5)\n",
            "Collecting colorama\n",
            "  Downloading colorama-0.4.4-py2.py3-none-any.whl (16 kB)\n",
            "Collecting JPype1>=0.7.0\n",
            "  Downloading JPype1-1.3.0-cp37-cp37m-manylinux_2_5_x86_64.manylinux1_x86_64.whl (448 kB)\n",
            "\u001b[K     |████████████████████████████████| 448 kB 52.6 MB/s \n",
            "\u001b[?25hRequirement already satisfied: typing-extensions in /usr/local/lib/python3.7/dist-packages (from JPype1>=0.7.0->konlpy) (3.7.4.3)\n",
            "Requirement already satisfied: six>=1.10.0 in /usr/local/lib/python3.7/dist-packages (from tweepy>=3.7.0->konlpy) (1.15.0)\n",
            "Requirement already satisfied: requests-oauthlib>=0.7.0 in /usr/local/lib/python3.7/dist-packages (from tweepy>=3.7.0->konlpy) (1.3.0)\n",
            "Requirement already satisfied: requests[socks]>=2.11.1 in /usr/local/lib/python3.7/dist-packages (from tweepy>=3.7.0->konlpy) (2.23.0)\n",
            "Requirement already satisfied: oauthlib>=3.0.0 in /usr/local/lib/python3.7/dist-packages (from requests-oauthlib>=0.7.0->tweepy>=3.7.0->konlpy) (3.1.1)\n",
            "Requirement already satisfied: chardet<4,>=3.0.2 in /usr/local/lib/python3.7/dist-packages (from requests[socks]>=2.11.1->tweepy>=3.7.0->konlpy) (3.0.4)\n",
            "Requirement already satisfied: certifi>=2017.4.17 in /usr/local/lib/python3.7/dist-packages (from requests[socks]>=2.11.1->tweepy>=3.7.0->konlpy) (2021.5.30)\n",
            "Requirement already satisfied: idna<3,>=2.5 in /usr/local/lib/python3.7/dist-packages (from requests[socks]>=2.11.1->tweepy>=3.7.0->konlpy) (2.10)\n",
            "Requirement already satisfied: urllib3!=1.25.0,!=1.25.1,<1.26,>=1.21.1 in /usr/local/lib/python3.7/dist-packages (from requests[socks]>=2.11.1->tweepy>=3.7.0->konlpy) (1.24.3)\n",
            "Requirement already satisfied: PySocks!=1.5.7,>=1.5.6 in /usr/local/lib/python3.7/dist-packages (from requests[socks]>=2.11.1->tweepy>=3.7.0->konlpy) (1.7.1)\n",
            "Installing collected packages: JPype1, colorama, beautifulsoup4, konlpy\n",
            "  Attempting uninstall: beautifulsoup4\n",
            "    Found existing installation: beautifulsoup4 4.6.3\n",
            "    Uninstalling beautifulsoup4-4.6.3:\n",
            "      Successfully uninstalled beautifulsoup4-4.6.3\n",
            "Successfully installed JPype1-1.3.0 beautifulsoup4-4.6.0 colorama-0.4.4 konlpy-0.5.2\n"
          ]
        }
      ]
    },
    {
      "cell_type": "code",
      "metadata": {
        "colab": {
          "base_uri": "https://localhost:8080/"
        },
        "id": "ze9tqAFwCP_4",
        "outputId": "baace907-9d9d-4692-8b4d-ed48ac7b5f60"
      },
      "source": [
        "!pip install collection"
      ],
      "execution_count": 8,
      "outputs": [
        {
          "output_type": "stream",
          "name": "stdout",
          "text": [
            "Collecting collection\n",
            "  Downloading collection-0.1.6.tar.gz (5.0 kB)\n",
            "Building wheels for collected packages: collection\n",
            "  Building wheel for collection (setup.py) ... \u001b[?25l\u001b[?25hdone\n",
            "  Created wheel for collection: filename=collection-0.1.6-py3-none-any.whl size=5117 sha256=d2f2669047a4345a49e097aa66395178840d9ecce82d4ab5692f8b825afe1352\n",
            "  Stored in directory: /root/.cache/pip/wheels/45/ed/3c/29a1c0600bb908a2e7421dc3a3775cbaed434a71b4ed93a439\n",
            "Successfully built collection\n",
            "Installing collected packages: collection\n",
            "Successfully installed collection-0.1.6\n"
          ]
        }
      ]
    },
    {
      "cell_type": "code",
      "metadata": {
        "colab": {
          "base_uri": "https://localhost:8080/"
        },
        "id": "k39JZ0C1CP-H",
        "outputId": "c67a39b6-3a45-4915-8527-a7f50dcbe1b7"
      },
      "source": [
        "!pip install matplotlib"
      ],
      "execution_count": 9,
      "outputs": [
        {
          "output_type": "stream",
          "name": "stdout",
          "text": [
            "Requirement already satisfied: matplotlib in /usr/local/lib/python3.7/dist-packages (3.2.2)\n",
            "Requirement already satisfied: kiwisolver>=1.0.1 in /usr/local/lib/python3.7/dist-packages (from matplotlib) (1.3.2)\n",
            "Requirement already satisfied: cycler>=0.10 in /usr/local/lib/python3.7/dist-packages (from matplotlib) (0.10.0)\n",
            "Requirement already satisfied: pyparsing!=2.0.4,!=2.1.2,!=2.1.6,>=2.0.1 in /usr/local/lib/python3.7/dist-packages (from matplotlib) (2.4.7)\n",
            "Requirement already satisfied: numpy>=1.11 in /usr/local/lib/python3.7/dist-packages (from matplotlib) (1.19.5)\n",
            "Requirement already satisfied: python-dateutil>=2.1 in /usr/local/lib/python3.7/dist-packages (from matplotlib) (2.8.2)\n",
            "Requirement already satisfied: six in /usr/local/lib/python3.7/dist-packages (from cycler>=0.10->matplotlib) (1.15.0)\n"
          ]
        }
      ]
    },
    {
      "cell_type": "code",
      "metadata": {
        "id": "Rjz02q5sCP4u"
      },
      "source": [
        "from konlpy.tag import Okt\n",
        "from collections import Counter\n",
        "from wordcloud import WordCloud\n",
        "import matplotlib.pyplot as plt\n",
        "import matplotlib.font_manager as fm\n",
        "import pandas as pd\n",
        "from time import time\n",
        "from concurrent.futures import ProcessPoolExecutor\n"
      ],
      "execution_count": 36,
      "outputs": []
    },
    {
      "cell_type": "code",
      "metadata": {
        "id": "Y7pvFErtCP14"
      },
      "source": [
        "# 품사태깅 함수 \n",
        "# 인풋 : 데이터 프레임 형태로 행별로 글들이 담겨있는 형태\n",
        "\n",
        "# 순차처리\n",
        "\n",
        "def part_tagging(data):\n",
        "  from konlpy.tag import Okt\n",
        "\n",
        "  Okt = Okt()\n",
        "  morphs=[Okt.pos(sentence) for sentence in data]\n",
        "\n",
        "  return morphs # 품사 태깅해서 하나의 리스트형태로 반환"
      ],
      "execution_count": 69,
      "outputs": []
    },
    {
      "cell_type": "markdown",
      "metadata": {
        "id": "ZSSOH-B0N__2"
      },
      "source": [
        "## pandas에서 병렬처리 적용\n",
        "\n",
        "pandas는 내부적으로 병렬처리 기능을 지원하지 않기 때문에 데이터가 크고 전처리 함수가 복잡하면 시간이 매우 오래 걸릴 수 있습니다. \n",
        "\n",
        "- map과 apply만으로도 충분히 빠른 성능을 낼 수 있기 때문에 multiprocessing이 항상 해답은 아님"
      ]
    },
    {
      "cell_type": "code",
      "metadata": {
        "id": "hISGvyIhLQOY"
      },
      "source": [
        "# 품사태깅 함수 \n",
        "# 인풋 : 데이터 프레임 형태로 행별로 글들이 담겨있는 형태\n",
        "\n",
        "# 병렬처리 적용\n",
        "\n",
        "def tagging(data):\n",
        "  from konlpy.tag import Okt\n",
        "  Okt = Okt()\n",
        "  return Okt.pos(data)\n",
        "\n",
        "def parallel_processing_part_tagging(data):\n",
        "  \n",
        "  pool = ProcessPoolExecutor(max_workers=2)\n",
        "  morphs = list(pool.map( tagging,[sentence for sentence in data]))\n",
        "\n",
        "  return morphs # 품사 태깅해서 하나의 리스트형태로 반환"
      ],
      "execution_count": 83,
      "outputs": []
    },
    {
      "cell_type": "code",
      "metadata": {
        "colab": {
          "base_uri": "https://localhost:8080/"
        },
        "id": "kETmfyL0CPW7",
        "outputId": "3f2fbd9f-b432-4ac8-cfdd-1559a4d698bb"
      },
      "source": [
        "sample = pd.DataFrame({'contents':['시작']})\n",
        "\n",
        "python_news =[\"파이썬 런타임을 변경해 멀티스레드 성능을 강화하는 새로운 프로젝트가 제안됐다. 파이썬 개발팀도 해당 개념 증명에 관심을 보였다. 파이썬의 고질적인 약점(멀티스레드 환경에서 잘 확장되지 않는다는 것)이 해당 프로그래밍 언어 개발팀의 새로운 목표가 될지도 모른다. 지난 10월 7일(현지 시각) 개발자 샘 그로스가 파이썬의 참조 구현 C파이썬의 핵심 구성요소 ‘GIL(Global Interpreter Lock)’에 관한 변경사항을 제안했다.만약 파이썬 개발팀에서 그의 제안을 받아들인다면 이는 파이썬이 런타임에서 멀티스레드로부터 객체 액세스를 직렬화하는 방식을 변경하고, 멀티스레드 성능을 크게 향상시킬 것으로 예상된다. GIL은 오랫동안 C파이썬(그리고 파이썬)에서 더 나은 멀티스레드 성능의 장애물로 간주돼 왔다. 수년 동안 이를 제거하려는 많은 시도가 있었다. 하지만 대다수의 기존 파이썬 애플리케이션을 느리게 만들어 단일 스레드 성능을 저하시키는 문제를 해결할 수 없었다.스레드 및 멀티프로세싱을 다루는 파이썬의 현 메타포는 높은 병렬처리가 불가능한 건 아니다. 하지만 개발자가 작업을 완료하기 위해서는 다스크(Dask) 등의 서드파티 모듈을 사용해야 했다.새로운 제안은 파이썬 객체의 참조 카운팅 방식을 변경하여 객체를 소유한 스레드의 참조가 다른 스레드의 참조와 다르게 처리되도록 한다. 그로스에 따르면 단일 스레드 성능 벤치마크에서 GIL를 제거한 새로운 인터프리터는 C파이썬 3.9 인터프리터보다 약 10% 빠른 것으로 나타났다. 또한 일부 벤치마크에서 멀티스레드 성능은 새로운 스레드에 따라 거의 선형적으로 확장됐다. 예를 들면 20개의 스레드를 사용할 때 한 벤치마크에서는 최대 18.1배, 다른 벤치마크에서는 최대 19.8배 빨라졌다고 그는 언급했다.이어서 이는 파이썬의 내부(예: C파이썬)에서 작동하는 기존 파이썬 라이브러리를 상당 수 다시 작성해야 할 만큼 큰 변경사항이라고 그로스는 덧붙였다.파이썬(Python)과 자바(Java)는 가장 많이 사용되는, 인기 있는 프로그래밍 언어 중 하나이다. 올해 10월 티오베 지수(TIOBE Index)에서 파이썬이 자바를 제치며 20여 년 만에 가장 인기 있는 프로그래밍 언어로 올라섰다. 자바와 파이썬 모두 객체 지향 프로그래밍 언어로 오늘날 데이터 과학에서 가장 선호되는 언어이기도 하다. 그런데 데이터 과학을 위해선 어떤 언어를 선택해야 할까? 애널리티스 인디아 매거진이 데이터 과학 관점에서 파이썬과 자바의 문법, 퍼포먼스, 프레임워크 및 도구를 비교했다.자바와 파이썬의 주요 차이점 중 하나는 문법에 있다. 프로그래머는 자바에서 코드를 작성할 때 변수의 데이터 유형을 정의해야 한다. 그리고 이 데이터 유형은 명시적으로 변경할 수 없으며 프로그램의 수명 동안 유지된다. 이는 자바가 강력한 타입화된 언어로 만든다. 반면 파이썬의 경우 변수의 데이터 타입이 런타임에 자동으로 정의된다. 변수의 타입은 프로그램 수명 동안 변경될 수 있으며, 파이썬은 동적으로 타입화된 프로그래밍 언어가 된다. 동적 타이핑을 사용하면 해당 언어를 사용하기 쉽고 코드 줄 수를 줄일 수 있다. 또한 자바에서는 쌍반점(;)을 사용해 구문을 끝내지 않거나 중괄호를 생략하면 컴파일 중 오류가 발생한다. 반면 파이썬은 이러한 복잡한 프로그래밍 구조를 따르지 않아 학습과 사용이 더 쉽다. 속도의 측면에서는 자바가 더 유리하다. 파이썬은 소스 코드를 한 줄 한 줄 읽는 해석된 언어이다. 이는 파이썬의 소스 코드 속도를 느리게 만든다. 실제로 파이썬 프로그래밍에서 디버깅은 런타입 동안 발생한다. 반면 자바는 동시에 여러 개의 계산을 수행한다. 파이썬과 자바 모두 데이터 과학, 데이터 분석 및 머신러닝 작업을 지원하는 라이브러리 목록을 제공한다. 판다스(Pandas) : 판다스는 파이썬에서 가장 인기 있는 오픈 소스 라이브러리이다. 대용량 데이터 집합을 처리하는 데 사용되며, 데이터 정렬, 고급 인덱싱 및 누락된 데이터 처리와 같은 직관적인 기능과 함께 유연하고 빠르고 표현력이 뛰어난 데이터 구조를 제공한다. 싸이파이(SciPy, Scientific Python) : 이름에서 알 수 있듯이 싸이파이는 과학, 복합적 수학, 공학과 관련된 문제를 푸는 데 사용된다. 통계, 선형 대수, 최적화 및 통합을 위한 루틴을 제공한다. 넘파이(NumPy, Numerical Python) : 넘파이는 통계 및 수학적 계산을 위한 기초적인 도구이다. 넘파이 위에 싸이파이, 판다스, 매트플롯 라이브러리(Matplotlib), 스테츠모델스(Statsmodels)를 포함한 라이브러리들이 세워진다. 텐서플로(TensoFlow) : 텐서플로는 구글 브레인 팀이 개발한 오픈 소스 라이브러리로 주로 파이썬의 딥 러닝 애플리케이션에 사용된다. ML 기반 애플리케이션의 배치를 돕는다. WEKA 3: 지식 분석을 위한 와이카토(Waikato) 환경의 줄임말로 데이터 구현과 처리 도구를 제공하는 오픈 소스 소프트웨어이다. 예측 모델링, 데이터 마이닝 및 분석에 주로 사용한다. 아파치 스파크(Apache Spark) : 빅데이터 처리를 위한 사용하기 쉽고 빠른 엔진이다. 아파치 하둡 맵리듀스(Apache Hadoop MapReduce)를 기반으로 하며 주로 대규모 데이터셋을 처리하는 데 사용된다. 여기에 스파크 SQL, 스파크 스트리밍, 스파크 머신러닝 라이브러리 등의 모듈이 내장되어있다. 자바 머신러닝(Java Machine Learning): 자바 머신러닝 라이브러리는 데이터 분류, 처리 및 클러스팅에 사용할 수 있는 방대한 머신러닝 및 데이터 마이닝 알고리즘을 제공한다. 딥러닝4j(Deeplearning4j): 딥러닝4j는 자바 프로그래머들이 머신러닝 애플리케이션을 만들 수 있도록 도와주는 오픈 소스 라이브러리이다. 파이썬의 학습 곡선이 자바만큼 가파르지 않기 때문에, 머신러닝 프로그래머, 특히 초보자들은 자바보다 파이썬을 선호한다. 실제로 파이썬은 '초보자 언어'로 꼽히는데, 머신러닝과 데이터 사이언스 온라인 학습 강좌 대부분이 초보자 친화적 기능을 위해 파이썬을 강조하고 있어 데이터 과학 분야에서 파이썬의 인기가 높아지고 있다. 한편 연구자들은 자신만의 라이브러리를 만들 때 깃허브(GitHub)와 같은 오픈 소스 플랫폼에 업로드한다. 이러한 대규모 개발자 컴퓨니티 지원으로 머신러닝 애플리케이션을 개발할 때 파이썬을 사용하는 것이 더 용이해진다.\"]\n",
        "python_news_split=python_news[0].split('.')\n",
        "python_news_split\n",
        "\n",
        "# 출처 : https://www.ciokorea.com/news/210764\n",
        "# 출처 : https://www.codingworldnews.com/news/articleView.html?idxno=6567\n",
        "\n"
      ],
      "execution_count": 34,
      "outputs": [
        {
          "output_type": "execute_result",
          "data": {
            "text/plain": [
              "['파이썬 런타임을 변경해 멀티스레드 성능을 강화하는 새로운 프로젝트가 제안됐다',\n",
              " ' 파이썬 개발팀도 해당 개념 증명에 관심을 보였다',\n",
              " ' 파이썬의 고질적인 약점(멀티스레드 환경에서 잘 확장되지 않는다는 것)이 해당 프로그래밍 언어 개발팀의 새로운 목표가 될지도 모른다',\n",
              " ' 지난 10월 7일(현지 시각) 개발자 샘 그로스가 파이썬의 참조 구현 C파이썬의 핵심 구성요소 ‘GIL(Global Interpreter Lock)’에 관한 변경사항을 제안했다',\n",
              " '만약 파이썬 개발팀에서 그의 제안을 받아들인다면 이는 파이썬이 런타임에서 멀티스레드로부터 객체 액세스를 직렬화하는 방식을 변경하고, 멀티스레드 성능을 크게 향상시킬 것으로 예상된다',\n",
              " ' GIL은 오랫동안 C파이썬(그리고 파이썬)에서 더 나은 멀티스레드 성능의 장애물로 간주돼 왔다',\n",
              " ' 수년 동안 이를 제거하려는 많은 시도가 있었다',\n",
              " ' 하지만 대다수의 기존 파이썬 애플리케이션을 느리게 만들어 단일 스레드 성능을 저하시키는 문제를 해결할 수 없었다',\n",
              " '스레드 및 멀티프로세싱을 다루는 파이썬의 현 메타포는 높은 병렬처리가 불가능한 건 아니다',\n",
              " ' 하지만 개발자가 작업을 완료하기 위해서는 다스크(Dask) 등의 서드파티 모듈을 사용해야 했다',\n",
              " '새로운 제안은 파이썬 객체의 참조 카운팅 방식을 변경하여 객체를 소유한 스레드의 참조가 다른 스레드의 참조와 다르게 처리되도록 한다',\n",
              " ' 그로스에 따르면 단일 스레드 성능 벤치마크에서 GIL를 제거한 새로운 인터프리터는 C파이썬 3',\n",
              " '9 인터프리터보다 약 10% 빠른 것으로 나타났다',\n",
              " ' 또한 일부 벤치마크에서 멀티스레드 성능은 새로운 스레드에 따라 거의 선형적으로 확장됐다',\n",
              " ' 예를 들면 20개의 스레드를 사용할 때 한 벤치마크에서는 최대 18',\n",
              " '1배, 다른 벤치마크에서는 최대 19',\n",
              " '8배 빨라졌다고 그는 언급했다',\n",
              " '이어서 이는 파이썬의 내부(예: C파이썬)에서 작동하는 기존 파이썬 라이브러리를 상당 수 다시 작성해야 할 만큼 큰 변경사항이라고 그로스는 덧붙였다',\n",
              " '파이썬(Python)과 자바(Java)는 가장 많이 사용되는, 인기 있는 프로그래밍 언어 중 하나이다',\n",
              " ' 올해 10월 티오베 지수(TIOBE Index)에서 파이썬이 자바를 제치며 20여 년 만에 가장 인기 있는 프로그래밍 언어로 올라섰다',\n",
              " ' 자바와 파이썬 모두 객체 지향 프로그래밍 언어로 오늘날 데이터 과학에서 가장 선호되는 언어이기도 하다',\n",
              " ' 그런데 데이터 과학을 위해선 어떤 언어를 선택해야 할까? 애널리티스 인디아 매거진이 데이터 과학 관점에서 파이썬과 자바의 문법, 퍼포먼스, 프레임워크 및 도구를 비교했다',\n",
              " '자바와 파이썬의 주요 차이점 중 하나는 문법에 있다',\n",
              " ' 프로그래머는 자바에서 코드를 작성할 때 변수의 데이터 유형을 정의해야 한다',\n",
              " ' 그리고 이 데이터 유형은 명시적으로 변경할 수 없으며 프로그램의 수명 동안 유지된다',\n",
              " ' 이는 자바가 강력한 타입화된 언어로 만든다',\n",
              " ' 반면 파이썬의 경우 변수의 데이터 타입이 런타임에 자동으로 정의된다',\n",
              " ' 변수의 타입은 프로그램 수명 동안 변경될 수 있으며, 파이썬은 동적으로 타입화된 프로그래밍 언어가 된다',\n",
              " ' 동적 타이핑을 사용하면 해당 언어를 사용하기 쉽고 코드 줄 수를 줄일 수 있다',\n",
              " ' 또한 자바에서는 쌍반점(;)을 사용해 구문을 끝내지 않거나 중괄호를 생략하면 컴파일 중 오류가 발생한다',\n",
              " ' 반면 파이썬은 이러한 복잡한 프로그래밍 구조를 따르지 않아 학습과 사용이 더 쉽다',\n",
              " ' 속도의 측면에서는 자바가 더 유리하다',\n",
              " ' 파이썬은 소스 코드를 한 줄 한 줄 읽는 해석된 언어이다',\n",
              " ' 이는 파이썬의 소스 코드 속도를 느리게 만든다',\n",
              " ' 실제로 파이썬 프로그래밍에서 디버깅은 런타입 동안 발생한다',\n",
              " ' 반면 자바는 동시에 여러 개의 계산을 수행한다',\n",
              " ' 파이썬과 자바 모두 데이터 과학, 데이터 분석 및 머신러닝 작업을 지원하는 라이브러리 목록을 제공한다',\n",
              " ' 판다스(Pandas) : 판다스는 파이썬에서 가장 인기 있는 오픈 소스 라이브러리이다',\n",
              " ' 대용량 데이터 집합을 처리하는 데 사용되며, 데이터 정렬, 고급 인덱싱 및 누락된 데이터 처리와 같은 직관적인 기능과 함께 유연하고 빠르고 표현력이 뛰어난 데이터 구조를 제공한다',\n",
              " ' 싸이파이(SciPy, Scientific Python) : 이름에서 알 수 있듯이 싸이파이는 과학, 복합적 수학, 공학과 관련된 문제를 푸는 데 사용된다',\n",
              " ' 통계, 선형 대수, 최적화 및 통합을 위한 루틴을 제공한다',\n",
              " ' 넘파이(NumPy, Numerical Python) : 넘파이는 통계 및 수학적 계산을 위한 기초적인 도구이다',\n",
              " ' 넘파이 위에 싸이파이, 판다스, 매트플롯 라이브러리(Matplotlib), 스테츠모델스(Statsmodels)를 포함한 라이브러리들이 세워진다',\n",
              " ' 텐서플로(TensoFlow) : 텐서플로는 구글 브레인 팀이 개발한 오픈 소스 라이브러리로 주로 파이썬의 딥 러닝 애플리케이션에 사용된다',\n",
              " ' ML 기반 애플리케이션의 배치를 돕는다',\n",
              " ' WEKA 3: 지식 분석을 위한 와이카토(Waikato) 환경의 줄임말로 데이터 구현과 처리 도구를 제공하는 오픈 소스 소프트웨어이다',\n",
              " ' 예측 모델링, 데이터 마이닝 및 분석에 주로 사용한다',\n",
              " ' 아파치 스파크(Apache Spark) : 빅데이터 처리를 위한 사용하기 쉽고 빠른 엔진이다',\n",
              " ' 아파치 하둡 맵리듀스(Apache Hadoop MapReduce)를 기반으로 하며 주로 대규모 데이터셋을 처리하는 데 사용된다',\n",
              " ' 여기에 스파크 SQL, 스파크 스트리밍, 스파크 머신러닝 라이브러리 등의 모듈이 내장되어있다',\n",
              " ' 자바 머신러닝(Java Machine Learning): 자바 머신러닝 라이브러리는 데이터 분류, 처리 및 클러스팅에 사용할 수 있는 방대한 머신러닝 및 데이터 마이닝 알고리즘을 제공한다',\n",
              " ' 딥러닝4j(Deeplearning4j): 딥러닝4j는 자바 프로그래머들이 머신러닝 애플리케이션을 만들 수 있도록 도와주는 오픈 소스 라이브러리이다',\n",
              " ' 파이썬의 학습 곡선이 자바만큼 가파르지 않기 때문에, 머신러닝 프로그래머, 특히 초보자들은 자바보다 파이썬을 선호한다',\n",
              " \" 실제로 파이썬은 '초보자 언어'로 꼽히는데, 머신러닝과 데이터 사이언스 온라인 학습 강좌 대부분이 초보자 친화적 기능을 위해 파이썬을 강조하고 있어 데이터 과학 분야에서 파이썬의 인기가 높아지고 있다\",\n",
              " ' 한편 연구자들은 자신만의 라이브러리를 만들 때 깃허브(GitHub)와 같은 오픈 소스 플랫폼에 업로드한다',\n",
              " ' 이러한 대규모 개발자 컴퓨니티 지원으로 머신러닝 애플리케이션을 개발할 때 파이썬을 사용하는 것이 더 용이해진다',\n",
              " '']"
            ]
          },
          "metadata": {},
          "execution_count": 34
        }
      ]
    },
    {
      "cell_type": "code",
      "metadata": {
        "colab": {
          "base_uri": "https://localhost:8080/",
          "height": 1000
        },
        "id": "en3EaRdNCPVU",
        "outputId": "7f584540-59e5-4dae-a496-d7aaae1de038"
      },
      "source": [
        "for i in range(len(python_news_split)):\n",
        "  sample.loc[i] = python_news_split[i]\n",
        "sample"
      ],
      "execution_count": 35,
      "outputs": [
        {
          "output_type": "execute_result",
          "data": {
            "text/html": [
              "<div>\n",
              "<style scoped>\n",
              "    .dataframe tbody tr th:only-of-type {\n",
              "        vertical-align: middle;\n",
              "    }\n",
              "\n",
              "    .dataframe tbody tr th {\n",
              "        vertical-align: top;\n",
              "    }\n",
              "\n",
              "    .dataframe thead th {\n",
              "        text-align: right;\n",
              "    }\n",
              "</style>\n",
              "<table border=\"1\" class=\"dataframe\">\n",
              "  <thead>\n",
              "    <tr style=\"text-align: right;\">\n",
              "      <th></th>\n",
              "      <th>contents</th>\n",
              "    </tr>\n",
              "  </thead>\n",
              "  <tbody>\n",
              "    <tr>\n",
              "      <th>0</th>\n",
              "      <td>파이썬 런타임을 변경해 멀티스레드 성능을 강화하는 새로운 프로젝트가 제안됐다</td>\n",
              "    </tr>\n",
              "    <tr>\n",
              "      <th>1</th>\n",
              "      <td>파이썬 개발팀도 해당 개념 증명에 관심을 보였다</td>\n",
              "    </tr>\n",
              "    <tr>\n",
              "      <th>2</th>\n",
              "      <td>파이썬의 고질적인 약점(멀티스레드 환경에서 잘 확장되지 않는다는 것)이 해당 프로...</td>\n",
              "    </tr>\n",
              "    <tr>\n",
              "      <th>3</th>\n",
              "      <td>지난 10월 7일(현지 시각) 개발자 샘 그로스가 파이썬의 참조 구현 C파이썬의 ...</td>\n",
              "    </tr>\n",
              "    <tr>\n",
              "      <th>4</th>\n",
              "      <td>만약 파이썬 개발팀에서 그의 제안을 받아들인다면 이는 파이썬이 런타임에서 멀티스레드...</td>\n",
              "    </tr>\n",
              "    <tr>\n",
              "      <th>5</th>\n",
              "      <td>GIL은 오랫동안 C파이썬(그리고 파이썬)에서 더 나은 멀티스레드 성능의 장애물로...</td>\n",
              "    </tr>\n",
              "    <tr>\n",
              "      <th>6</th>\n",
              "      <td>수년 동안 이를 제거하려는 많은 시도가 있었다</td>\n",
              "    </tr>\n",
              "    <tr>\n",
              "      <th>7</th>\n",
              "      <td>하지만 대다수의 기존 파이썬 애플리케이션을 느리게 만들어 단일 스레드 성능을 저하...</td>\n",
              "    </tr>\n",
              "    <tr>\n",
              "      <th>8</th>\n",
              "      <td>스레드 및 멀티프로세싱을 다루는 파이썬의 현 메타포는 높은 병렬처리가 불가능한 건 아니다</td>\n",
              "    </tr>\n",
              "    <tr>\n",
              "      <th>9</th>\n",
              "      <td>하지만 개발자가 작업을 완료하기 위해서는 다스크(Dask) 등의 서드파티 모듈을 ...</td>\n",
              "    </tr>\n",
              "    <tr>\n",
              "      <th>10</th>\n",
              "      <td>새로운 제안은 파이썬 객체의 참조 카운팅 방식을 변경하여 객체를 소유한 스레드의 참...</td>\n",
              "    </tr>\n",
              "    <tr>\n",
              "      <th>11</th>\n",
              "      <td>그로스에 따르면 단일 스레드 성능 벤치마크에서 GIL를 제거한 새로운 인터프리터는...</td>\n",
              "    </tr>\n",
              "    <tr>\n",
              "      <th>12</th>\n",
              "      <td>9 인터프리터보다 약 10% 빠른 것으로 나타났다</td>\n",
              "    </tr>\n",
              "    <tr>\n",
              "      <th>13</th>\n",
              "      <td>또한 일부 벤치마크에서 멀티스레드 성능은 새로운 스레드에 따라 거의 선형적으로 확장됐다</td>\n",
              "    </tr>\n",
              "    <tr>\n",
              "      <th>14</th>\n",
              "      <td>예를 들면 20개의 스레드를 사용할 때 한 벤치마크에서는 최대 18</td>\n",
              "    </tr>\n",
              "    <tr>\n",
              "      <th>15</th>\n",
              "      <td>1배, 다른 벤치마크에서는 최대 19</td>\n",
              "    </tr>\n",
              "    <tr>\n",
              "      <th>16</th>\n",
              "      <td>8배 빨라졌다고 그는 언급했다</td>\n",
              "    </tr>\n",
              "    <tr>\n",
              "      <th>17</th>\n",
              "      <td>이어서 이는 파이썬의 내부(예: C파이썬)에서 작동하는 기존 파이썬 라이브러리를 상...</td>\n",
              "    </tr>\n",
              "    <tr>\n",
              "      <th>18</th>\n",
              "      <td>파이썬(Python)과 자바(Java)는 가장 많이 사용되는, 인기 있는 프로그래밍...</td>\n",
              "    </tr>\n",
              "    <tr>\n",
              "      <th>19</th>\n",
              "      <td>올해 10월 티오베 지수(TIOBE Index)에서 파이썬이 자바를 제치며 20여...</td>\n",
              "    </tr>\n",
              "    <tr>\n",
              "      <th>20</th>\n",
              "      <td>자바와 파이썬 모두 객체 지향 프로그래밍 언어로 오늘날 데이터 과학에서 가장 선호...</td>\n",
              "    </tr>\n",
              "    <tr>\n",
              "      <th>21</th>\n",
              "      <td>그런데 데이터 과학을 위해선 어떤 언어를 선택해야 할까? 애널리티스 인디아 매거진...</td>\n",
              "    </tr>\n",
              "    <tr>\n",
              "      <th>22</th>\n",
              "      <td>자바와 파이썬의 주요 차이점 중 하나는 문법에 있다</td>\n",
              "    </tr>\n",
              "    <tr>\n",
              "      <th>23</th>\n",
              "      <td>프로그래머는 자바에서 코드를 작성할 때 변수의 데이터 유형을 정의해야 한다</td>\n",
              "    </tr>\n",
              "    <tr>\n",
              "      <th>24</th>\n",
              "      <td>그리고 이 데이터 유형은 명시적으로 변경할 수 없으며 프로그램의 수명 동안 유지된다</td>\n",
              "    </tr>\n",
              "    <tr>\n",
              "      <th>25</th>\n",
              "      <td>이는 자바가 강력한 타입화된 언어로 만든다</td>\n",
              "    </tr>\n",
              "    <tr>\n",
              "      <th>26</th>\n",
              "      <td>반면 파이썬의 경우 변수의 데이터 타입이 런타임에 자동으로 정의된다</td>\n",
              "    </tr>\n",
              "    <tr>\n",
              "      <th>27</th>\n",
              "      <td>변수의 타입은 프로그램 수명 동안 변경될 수 있으며, 파이썬은 동적으로 타입화된 ...</td>\n",
              "    </tr>\n",
              "    <tr>\n",
              "      <th>28</th>\n",
              "      <td>동적 타이핑을 사용하면 해당 언어를 사용하기 쉽고 코드 줄 수를 줄일 수 있다</td>\n",
              "    </tr>\n",
              "    <tr>\n",
              "      <th>29</th>\n",
              "      <td>또한 자바에서는 쌍반점(;)을 사용해 구문을 끝내지 않거나 중괄호를 생략하면 컴파...</td>\n",
              "    </tr>\n",
              "    <tr>\n",
              "      <th>30</th>\n",
              "      <td>반면 파이썬은 이러한 복잡한 프로그래밍 구조를 따르지 않아 학습과 사용이 더 쉽다</td>\n",
              "    </tr>\n",
              "    <tr>\n",
              "      <th>31</th>\n",
              "      <td>속도의 측면에서는 자바가 더 유리하다</td>\n",
              "    </tr>\n",
              "    <tr>\n",
              "      <th>32</th>\n",
              "      <td>파이썬은 소스 코드를 한 줄 한 줄 읽는 해석된 언어이다</td>\n",
              "    </tr>\n",
              "    <tr>\n",
              "      <th>33</th>\n",
              "      <td>이는 파이썬의 소스 코드 속도를 느리게 만든다</td>\n",
              "    </tr>\n",
              "    <tr>\n",
              "      <th>34</th>\n",
              "      <td>실제로 파이썬 프로그래밍에서 디버깅은 런타입 동안 발생한다</td>\n",
              "    </tr>\n",
              "    <tr>\n",
              "      <th>35</th>\n",
              "      <td>반면 자바는 동시에 여러 개의 계산을 수행한다</td>\n",
              "    </tr>\n",
              "    <tr>\n",
              "      <th>36</th>\n",
              "      <td>파이썬과 자바 모두 데이터 과학, 데이터 분석 및 머신러닝 작업을 지원하는 라이브...</td>\n",
              "    </tr>\n",
              "    <tr>\n",
              "      <th>37</th>\n",
              "      <td>판다스(Pandas) : 판다스는 파이썬에서 가장 인기 있는 오픈 소스 라이브러리이다</td>\n",
              "    </tr>\n",
              "    <tr>\n",
              "      <th>38</th>\n",
              "      <td>대용량 데이터 집합을 처리하는 데 사용되며, 데이터 정렬, 고급 인덱싱 및 누락된...</td>\n",
              "    </tr>\n",
              "    <tr>\n",
              "      <th>39</th>\n",
              "      <td>싸이파이(SciPy, Scientific Python) : 이름에서 알 수 있듯이...</td>\n",
              "    </tr>\n",
              "    <tr>\n",
              "      <th>40</th>\n",
              "      <td>통계, 선형 대수, 최적화 및 통합을 위한 루틴을 제공한다</td>\n",
              "    </tr>\n",
              "    <tr>\n",
              "      <th>41</th>\n",
              "      <td>넘파이(NumPy, Numerical Python) : 넘파이는 통계 및 수학적 ...</td>\n",
              "    </tr>\n",
              "    <tr>\n",
              "      <th>42</th>\n",
              "      <td>넘파이 위에 싸이파이, 판다스, 매트플롯 라이브러리(Matplotlib), 스테츠...</td>\n",
              "    </tr>\n",
              "    <tr>\n",
              "      <th>43</th>\n",
              "      <td>텐서플로(TensoFlow) : 텐서플로는 구글 브레인 팀이 개발한 오픈 소스 라...</td>\n",
              "    </tr>\n",
              "    <tr>\n",
              "      <th>44</th>\n",
              "      <td>ML 기반 애플리케이션의 배치를 돕는다</td>\n",
              "    </tr>\n",
              "    <tr>\n",
              "      <th>45</th>\n",
              "      <td>WEKA 3: 지식 분석을 위한 와이카토(Waikato) 환경의 줄임말로 데이터 ...</td>\n",
              "    </tr>\n",
              "    <tr>\n",
              "      <th>46</th>\n",
              "      <td>예측 모델링, 데이터 마이닝 및 분석에 주로 사용한다</td>\n",
              "    </tr>\n",
              "    <tr>\n",
              "      <th>47</th>\n",
              "      <td>아파치 스파크(Apache Spark) : 빅데이터 처리를 위한 사용하기 쉽고 빠...</td>\n",
              "    </tr>\n",
              "    <tr>\n",
              "      <th>48</th>\n",
              "      <td>아파치 하둡 맵리듀스(Apache Hadoop MapReduce)를 기반으로 하며...</td>\n",
              "    </tr>\n",
              "    <tr>\n",
              "      <th>49</th>\n",
              "      <td>여기에 스파크 SQL, 스파크 스트리밍, 스파크 머신러닝 라이브러리 등의 모듈이 ...</td>\n",
              "    </tr>\n",
              "    <tr>\n",
              "      <th>50</th>\n",
              "      <td>자바 머신러닝(Java Machine Learning): 자바 머신러닝 라이브러리...</td>\n",
              "    </tr>\n",
              "    <tr>\n",
              "      <th>51</th>\n",
              "      <td>딥러닝4j(Deeplearning4j): 딥러닝4j는 자바 프로그래머들이 머신러닝...</td>\n",
              "    </tr>\n",
              "    <tr>\n",
              "      <th>52</th>\n",
              "      <td>파이썬의 학습 곡선이 자바만큼 가파르지 않기 때문에, 머신러닝 프로그래머, 특히 ...</td>\n",
              "    </tr>\n",
              "    <tr>\n",
              "      <th>53</th>\n",
              "      <td>실제로 파이썬은 '초보자 언어'로 꼽히는데, 머신러닝과 데이터 사이언스 온라인 학...</td>\n",
              "    </tr>\n",
              "    <tr>\n",
              "      <th>54</th>\n",
              "      <td>한편 연구자들은 자신만의 라이브러리를 만들 때 깃허브(GitHub)와 같은 오픈 ...</td>\n",
              "    </tr>\n",
              "    <tr>\n",
              "      <th>55</th>\n",
              "      <td>이러한 대규모 개발자 컴퓨니티 지원으로 머신러닝 애플리케이션을 개발할 때 파이썬을...</td>\n",
              "    </tr>\n",
              "    <tr>\n",
              "      <th>56</th>\n",
              "      <td></td>\n",
              "    </tr>\n",
              "  </tbody>\n",
              "</table>\n",
              "</div>"
            ],
            "text/plain": [
              "                                             contents\n",
              "0          파이썬 런타임을 변경해 멀티스레드 성능을 강화하는 새로운 프로젝트가 제안됐다\n",
              "1                          파이썬 개발팀도 해당 개념 증명에 관심을 보였다\n",
              "2    파이썬의 고질적인 약점(멀티스레드 환경에서 잘 확장되지 않는다는 것)이 해당 프로...\n",
              "3    지난 10월 7일(현지 시각) 개발자 샘 그로스가 파이썬의 참조 구현 C파이썬의 ...\n",
              "4   만약 파이썬 개발팀에서 그의 제안을 받아들인다면 이는 파이썬이 런타임에서 멀티스레드...\n",
              "5    GIL은 오랫동안 C파이썬(그리고 파이썬)에서 더 나은 멀티스레드 성능의 장애물로...\n",
              "6                           수년 동안 이를 제거하려는 많은 시도가 있었다\n",
              "7    하지만 대다수의 기존 파이썬 애플리케이션을 느리게 만들어 단일 스레드 성능을 저하...\n",
              "8   스레드 및 멀티프로세싱을 다루는 파이썬의 현 메타포는 높은 병렬처리가 불가능한 건 아니다\n",
              "9    하지만 개발자가 작업을 완료하기 위해서는 다스크(Dask) 등의 서드파티 모듈을 ...\n",
              "10  새로운 제안은 파이썬 객체의 참조 카운팅 방식을 변경하여 객체를 소유한 스레드의 참...\n",
              "11   그로스에 따르면 단일 스레드 성능 벤치마크에서 GIL를 제거한 새로운 인터프리터는...\n",
              "12                        9 인터프리터보다 약 10% 빠른 것으로 나타났다\n",
              "13   또한 일부 벤치마크에서 멀티스레드 성능은 새로운 스레드에 따라 거의 선형적으로 확장됐다\n",
              "14              예를 들면 20개의 스레드를 사용할 때 한 벤치마크에서는 최대 18\n",
              "15                               1배, 다른 벤치마크에서는 최대 19\n",
              "16                                   8배 빨라졌다고 그는 언급했다\n",
              "17  이어서 이는 파이썬의 내부(예: C파이썬)에서 작동하는 기존 파이썬 라이브러리를 상...\n",
              "18  파이썬(Python)과 자바(Java)는 가장 많이 사용되는, 인기 있는 프로그래밍...\n",
              "19   올해 10월 티오베 지수(TIOBE Index)에서 파이썬이 자바를 제치며 20여...\n",
              "20   자바와 파이썬 모두 객체 지향 프로그래밍 언어로 오늘날 데이터 과학에서 가장 선호...\n",
              "21   그런데 데이터 과학을 위해선 어떤 언어를 선택해야 할까? 애널리티스 인디아 매거진...\n",
              "22                       자바와 파이썬의 주요 차이점 중 하나는 문법에 있다\n",
              "23          프로그래머는 자바에서 코드를 작성할 때 변수의 데이터 유형을 정의해야 한다\n",
              "24     그리고 이 데이터 유형은 명시적으로 변경할 수 없으며 프로그램의 수명 동안 유지된다\n",
              "25                            이는 자바가 강력한 타입화된 언어로 만든다\n",
              "26              반면 파이썬의 경우 변수의 데이터 타입이 런타임에 자동으로 정의된다\n",
              "27   변수의 타입은 프로그램 수명 동안 변경될 수 있으며, 파이썬은 동적으로 타입화된 ...\n",
              "28        동적 타이핑을 사용하면 해당 언어를 사용하기 쉽고 코드 줄 수를 줄일 수 있다\n",
              "29   또한 자바에서는 쌍반점(;)을 사용해 구문을 끝내지 않거나 중괄호를 생략하면 컴파...\n",
              "30      반면 파이썬은 이러한 복잡한 프로그래밍 구조를 따르지 않아 학습과 사용이 더 쉽다\n",
              "31                               속도의 측면에서는 자바가 더 유리하다\n",
              "32                    파이썬은 소스 코드를 한 줄 한 줄 읽는 해석된 언어이다\n",
              "33                          이는 파이썬의 소스 코드 속도를 느리게 만든다\n",
              "34                   실제로 파이썬 프로그래밍에서 디버깅은 런타입 동안 발생한다\n",
              "35                          반면 자바는 동시에 여러 개의 계산을 수행한다\n",
              "36   파이썬과 자바 모두 데이터 과학, 데이터 분석 및 머신러닝 작업을 지원하는 라이브...\n",
              "37    판다스(Pandas) : 판다스는 파이썬에서 가장 인기 있는 오픈 소스 라이브러리이다\n",
              "38   대용량 데이터 집합을 처리하는 데 사용되며, 데이터 정렬, 고급 인덱싱 및 누락된...\n",
              "39   싸이파이(SciPy, Scientific Python) : 이름에서 알 수 있듯이...\n",
              "40                   통계, 선형 대수, 최적화 및 통합을 위한 루틴을 제공한다\n",
              "41   넘파이(NumPy, Numerical Python) : 넘파이는 통계 및 수학적 ...\n",
              "42   넘파이 위에 싸이파이, 판다스, 매트플롯 라이브러리(Matplotlib), 스테츠...\n",
              "43   텐서플로(TensoFlow) : 텐서플로는 구글 브레인 팀이 개발한 오픈 소스 라...\n",
              "44                              ML 기반 애플리케이션의 배치를 돕는다\n",
              "45   WEKA 3: 지식 분석을 위한 와이카토(Waikato) 환경의 줄임말로 데이터 ...\n",
              "46                      예측 모델링, 데이터 마이닝 및 분석에 주로 사용한다\n",
              "47   아파치 스파크(Apache Spark) : 빅데이터 처리를 위한 사용하기 쉽고 빠...\n",
              "48   아파치 하둡 맵리듀스(Apache Hadoop MapReduce)를 기반으로 하며...\n",
              "49   여기에 스파크 SQL, 스파크 스트리밍, 스파크 머신러닝 라이브러리 등의 모듈이 ...\n",
              "50   자바 머신러닝(Java Machine Learning): 자바 머신러닝 라이브러리...\n",
              "51   딥러닝4j(Deeplearning4j): 딥러닝4j는 자바 프로그래머들이 머신러닝...\n",
              "52   파이썬의 학습 곡선이 자바만큼 가파르지 않기 때문에, 머신러닝 프로그래머, 특히 ...\n",
              "53   실제로 파이썬은 '초보자 언어'로 꼽히는데, 머신러닝과 데이터 사이언스 온라인 학...\n",
              "54   한편 연구자들은 자신만의 라이브러리를 만들 때 깃허브(GitHub)와 같은 오픈 ...\n",
              "55   이러한 대규모 개발자 컴퓨니티 지원으로 머신러닝 애플리케이션을 개발할 때 파이썬을...\n",
              "56                                                   "
            ]
          },
          "metadata": {},
          "execution_count": 35
        }
      ]
    },
    {
      "cell_type": "markdown",
      "metadata": {
        "id": "WGdNoxx-KQSb"
      },
      "source": [
        "# sample 데이터셋으로 순차처리랑  병렬처리를 비교해보자\n",
        "\n"
      ]
    },
    {
      "cell_type": "code",
      "metadata": {
        "colab": {
          "base_uri": "https://localhost:8080/"
        },
        "id": "PzRYPyulBxLM",
        "outputId": "105bddc5-62b7-4e2e-8dd8-942152c068b9"
      },
      "source": [
        "# 순차처리 실행시간\n",
        "\n",
        "start = time()\n",
        "print(part_tagging(sample['contents']))\n",
        "end = time()\n",
        "print(\"time :\", end - start)\n"
      ],
      "execution_count": 70,
      "outputs": [
        {
          "output_type": "stream",
          "name": "stdout",
          "text": [
            "[[('파이썬', 'Noun'), ('런타임', 'Noun'), ('을', 'Josa'), ('변경', 'Noun'), ('해', 'Verb'), ('멀티스레드', 'Noun'), ('성능', 'Noun'), ('을', 'Josa'), ('강화하는', 'Adjective'), ('새로운', 'Adjective'), ('프로젝트', 'Noun'), ('가', 'Josa'), ('제안', 'Noun'), ('됐다', 'Verb')], [('파이썬', 'Noun'), ('개발', 'Noun'), ('팀', 'Noun'), ('도', 'Josa'), ('해당', 'Noun'), ('개념', 'Noun'), ('증명', 'Noun'), ('에', 'Josa'), ('관심', 'Noun'), ('을', 'Josa'), ('보였다', 'Verb')], [('파이썬', 'Noun'), ('의', 'Josa'), ('고질', 'Noun'), ('적', 'Suffix'), ('인', 'Josa'), ('약점', 'Noun'), ('(', 'Punctuation'), ('멀티스레드', 'Noun'), ('환경', 'Noun'), ('에서', 'Josa'), ('잘', 'Verb'), ('확장', 'Noun'), ('되지', 'Verb'), ('않는다는', 'Verb'), ('것', 'Noun'), (')', 'Punctuation'), ('이', 'Noun'), ('해당', 'Noun'), ('프로그래밍', 'Noun'), ('언어', 'Noun'), ('개발', 'Noun'), ('팀', 'Noun'), ('의', 'Josa'), ('새로운', 'Adjective'), ('목표', 'Noun'), ('가', 'Josa'), ('될지도', 'Verb'), ('모른다', 'Verb')], [('지난', 'Noun'), ('10월', 'Number'), ('7일', 'Number'), ('(', 'Punctuation'), ('현지', 'Noun'), ('시각', 'Noun'), (')', 'Punctuation'), ('개발자', 'Noun'), ('샘', 'Noun'), ('그', 'Determiner'), ('로스', 'Noun'), ('가', 'Josa'), ('파이썬', 'Noun'), ('의', 'Josa'), ('참조', 'Noun'), ('구현', 'Noun'), ('C', 'Alpha'), ('파이썬', 'Noun'), ('의', 'Josa'), ('핵심', 'Noun'), ('구성요소', 'Noun'), ('‘', 'Foreign'), ('GIL', 'Alpha'), ('(', 'Punctuation'), ('Global', 'Alpha'), ('Interpreter', 'Alpha'), ('Lock', 'Alpha'), (')’', 'Punctuation'), ('에', 'Josa'), ('관', 'Noun'), ('한', 'Josa'), ('변경', 'Noun'), ('사항', 'Noun'), ('을', 'Josa'), ('제안', 'Noun'), ('했다', 'Verb')], [('만약', 'Noun'), ('파이썬', 'Noun'), ('개발', 'Noun'), ('팀', 'Noun'), ('에서', 'Josa'), ('그', 'Noun'), ('의', 'Josa'), ('제안', 'Noun'), ('을', 'Josa'), ('받아들인다면', 'Verb'), ('이는', 'Verb'), ('파이썬', 'Noun'), ('이', 'Josa'), ('런타임', 'Noun'), ('에서', 'Josa'), ('멀티스레드', 'Noun'), ('로부터', 'Noun'), ('객체', 'Noun'), ('액세스', 'Noun'), ('를', 'Josa'), ('직렬', 'Noun'), ('화하는', 'Adjective'), ('방식', 'Noun'), ('을', 'Josa'), ('변경', 'Noun'), ('하고', 'Josa'), (',', 'Punctuation'), ('멀티스레드', 'Noun'), ('성능', 'Noun'), ('을', 'Josa'), ('크게', 'Noun'), ('향상', 'Noun'), ('시킬', 'Verb'), ('것', 'Noun'), ('으로', 'Josa'), ('예상', 'Noun'), ('된다', 'Verb')], [('GIL', 'Alpha'), ('은', 'Noun'), ('오랫동안', 'Adverb'), ('C', 'Alpha'), ('파이썬', 'Noun'), ('(', 'Punctuation'), ('그리고', 'Conjunction'), ('파이썬', 'Noun'), (')', 'Punctuation'), ('에서', 'Josa'), ('더', 'Noun'), ('나은', 'Noun'), ('멀티스레드', 'Noun'), ('성능', 'Noun'), ('의', 'Josa'), ('장애물', 'Noun'), ('로', 'Josa'), ('간주', 'Noun'), ('돼', 'Verb'), ('왔다', 'Verb')], [('수년', 'Noun'), ('동안', 'Noun'), ('이를', 'Verb'), ('제거', 'Noun'), ('하려는', 'Verb'), ('많은', 'Adjective'), ('시도', 'Noun'), ('가', 'Josa'), ('있었다', 'Adjective')], [('하지만', 'Conjunction'), ('대다수', 'Noun'), ('의', 'Josa'), ('기존', 'Noun'), ('파이썬', 'Noun'), ('애플리케이션', 'Noun'), ('을', 'Josa'), ('느리게', 'Adjective'), ('만들어', 'Verb'), ('단일', 'Noun'), ('스레드', 'Noun'), ('성능', 'Noun'), ('을', 'Josa'), ('저하', 'Noun'), ('시키는', 'Verb'), ('문제', 'Noun'), ('를', 'Josa'), ('해결', 'Noun'), ('할', 'Verb'), ('수', 'Noun'), ('없었다', 'Adjective')], [('스레드', 'Noun'), ('및', 'Noun'), ('멀티프로세싱', 'Noun'), ('을', 'Josa'), ('다루는', 'Verb'), ('파이썬', 'Noun'), ('의', 'Josa'), ('현', 'Noun'), ('메타포', 'Noun'), ('는', 'Josa'), ('높은', 'Adjective'), ('병렬', 'Noun'), ('처리', 'Noun'), ('가', 'Josa'), ('불가능한', 'Adjective'), ('건', 'Noun'), ('아니다', 'Adjective')], [('하지만', 'Conjunction'), ('개발자', 'Noun'), ('가', 'Josa'), ('작업', 'Noun'), ('을', 'Josa'), ('완료', 'Noun'), ('하기', 'Verb'), ('위', 'Noun'), ('해서는', 'Verb'), ('다스', 'Noun'), ('크', 'Verb'), ('(', 'Punctuation'), ('Dask', 'Alpha'), (')', 'Punctuation'), ('등', 'Noun'), ('의', 'Josa'), ('서', 'Modifier'), ('드', 'Noun'), ('파티', 'Noun'), ('모듈', 'Noun'), ('을', 'Josa'), ('사용', 'Noun'), ('해야', 'Verb'), ('했다', 'Verb')], [('새로운', 'Adjective'), ('제안', 'Noun'), ('은', 'Josa'), ('파이썬', 'Noun'), ('객체', 'Noun'), ('의', 'Josa'), ('참조', 'Noun'), ('카운팅', 'Noun'), ('방식', 'Noun'), ('을', 'Josa'), ('변경', 'Noun'), ('하여', 'Verb'), ('객체', 'Noun'), ('를', 'Josa'), ('소유', 'Noun'), ('한', 'Josa'), ('스레드', 'Noun'), ('의', 'Josa'), ('참조', 'Noun'), ('가', 'Josa'), ('다른', 'Noun'), ('스레드', 'Noun'), ('의', 'Josa'), ('참조', 'Noun'), ('와', 'Josa'), ('다르게', 'Adjective'), ('처리', 'Noun'), ('되도록', 'Verb'), ('한다', 'Verb')], [('그', 'Determiner'), ('로스', 'Noun'), ('에', 'Josa'), ('따르면', 'Verb'), ('단일', 'Noun'), ('스레드', 'Noun'), ('성능', 'Noun'), ('벤치마크', 'Noun'), ('에서', 'Josa'), ('GIL', 'Alpha'), ('를', 'Noun'), ('제거', 'Noun'), ('한', 'Josa'), ('새로운', 'Adjective'), ('인터프리터', 'Noun'), ('는', 'Josa'), ('C', 'Alpha'), ('파이썬', 'Noun'), ('3', 'Number')], [('9', 'Number'), ('인터프리터', 'Noun'), ('보다', 'Josa'), ('약', 'Noun'), ('10%', 'Number'), ('빠른', 'Adjective'), ('것', 'Noun'), ('으로', 'Josa'), ('나타났다', 'Verb')], [('또한', 'Noun'), ('일부', 'Noun'), ('벤치마크', 'Noun'), ('에서', 'Josa'), ('멀티스레드', 'Noun'), ('성능', 'Noun'), ('은', 'Josa'), ('새로운', 'Adjective'), ('스레드', 'Noun'), ('에', 'Josa'), ('따라', 'Verb'), ('거의', 'Noun'), ('선형', 'Noun'), ('적', 'Suffix'), ('으로', 'Josa'), ('확장', 'Noun'), ('됐다', 'Verb')], [('예', 'Noun'), ('를', 'Josa'), ('들면', 'Verb'), ('20', 'Number'), ('개', 'Noun'), ('의', 'Josa'), ('스레드', 'Noun'), ('를', 'Josa'), ('사용', 'Noun'), ('할', 'Verb'), ('때', 'Noun'), ('한', 'Verb'), ('벤치마크', 'Noun'), ('에서는', 'Josa'), ('최대', 'Noun'), ('18', 'Number')], [('1', 'Number'), ('배', 'Noun'), (',', 'Punctuation'), ('다른', 'Noun'), ('벤치마크', 'Noun'), ('에서는', 'Josa'), ('최대', 'Noun'), ('19', 'Number')], [('8', 'Number'), ('배', 'Noun'), ('빨라졌다고', 'Adjective'), ('그', 'Noun'), ('는', 'Josa'), ('언급', 'Noun'), ('했다', 'Verb')], [('이어서', 'Adverb'), ('이는', 'Verb'), ('파이썬', 'Noun'), ('의', 'Josa'), ('내부', 'Noun'), ('(', 'Punctuation'), ('예', 'Noun'), (':', 'Punctuation'), ('C', 'Alpha'), ('파이썬', 'Noun'), (')', 'Punctuation'), ('에서', 'Josa'), ('작동', 'Noun'), ('하는', 'Verb'), ('기존', 'Noun'), ('파이썬', 'Noun'), ('라이브러리', 'Noun'), ('를', 'Josa'), ('상당', 'Noun'), ('수', 'Noun'), ('다시', 'Noun'), ('작성', 'Noun'), ('해야', 'Verb'), ('할', 'Verb'), ('만큼', 'Noun'), ('큰', 'Verb'), ('변경', 'Noun'), ('사항', 'Noun'), ('이라고', 'Josa'), ('그', 'Determiner'), ('로스', 'Noun'), ('는', 'Josa'), ('덧붙였다', 'Verb')], [('파이썬', 'Noun'), ('(', 'Punctuation'), ('Python', 'Alpha'), (')', 'Punctuation'), ('과', 'Noun'), ('자바', 'Noun'), ('(', 'Punctuation'), ('Java', 'Alpha'), (')', 'Punctuation'), ('는', 'Verb'), ('가장', 'Noun'), ('많이', 'Adverb'), ('사용', 'Noun'), ('되는', 'Verb'), (',', 'Punctuation'), ('인기', 'Noun'), ('있는', 'Adjective'), ('프로그래밍', 'Noun'), ('언어', 'Noun'), ('중', 'Noun'), ('하나', 'Noun'), ('이다', 'Josa')], [('올해', 'Noun'), ('10월', 'Number'), ('티', 'Noun'), ('오', 'Modifier'), ('베', 'Noun'), ('지수', 'Noun'), ('(', 'Punctuation'), ('TIOBE', 'Alpha'), ('Index', 'Alpha'), (')', 'Punctuation'), ('에서', 'Josa'), ('파이썬', 'Noun'), ('이', 'Josa'), ('자바', 'Noun'), ('를', 'Josa'), ('제', 'Modifier'), ('치', 'Noun'), ('며', 'Josa'), ('20', 'Number'), ('여', 'Noun'), ('년', 'Noun'), ('만에', 'Josa'), ('가장', 'Noun'), ('인기', 'Noun'), ('있는', 'Adjective'), ('프로그래밍', 'Noun'), ('언어', 'Noun'), ('로', 'Josa'), ('올라섰다', 'Verb')], [('자바', 'Noun'), ('와', 'Josa'), ('파이썬', 'Noun'), ('모두', 'Noun'), ('객체', 'Noun'), ('지향', 'Noun'), ('프로그래밍', 'Noun'), ('언어', 'Noun'), ('로', 'Josa'), ('오늘날', 'Noun'), ('데이터', 'Noun'), ('과학', 'Noun'), ('에서', 'Josa'), ('가장', 'Noun'), ('선호', 'Noun'), ('되는', 'Verb'), ('언어', 'Noun'), ('이기도', 'Josa'), ('하다', 'Verb')], [('그런데', 'Conjunction'), ('데이터', 'Noun'), ('과학', 'Noun'), ('을', 'Josa'), ('위해', 'Noun'), ('선', 'Noun'), ('어떤', 'Adjective'), ('언어', 'Noun'), ('를', 'Josa'), ('선택', 'Noun'), ('해야', 'Verb'), ('할까', 'Verb'), ('?', 'Punctuation'), ('애', 'Noun'), ('널리', 'Noun'), ('티스', 'Noun'), ('인디아', 'Noun'), ('매거진이', 'Verb'), ('데이터', 'Noun'), ('과학', 'Noun'), ('관점', 'Noun'), ('에서', 'Josa'), ('파이썬', 'Noun'), ('과', 'Josa'), ('자바', 'Noun'), ('의', 'Josa'), ('문법', 'Noun'), (',', 'Punctuation'), ('퍼포먼스', 'Noun'), (',', 'Punctuation'), ('프레임워크', 'Noun'), ('및', 'Noun'), ('도구', 'Noun'), ('를', 'Josa'), ('비교', 'Noun'), ('했다', 'Verb')], [('자바', 'Noun'), ('와', 'Josa'), ('파이썬', 'Noun'), ('의', 'Josa'), ('주요', 'Noun'), ('차이점', 'Noun'), ('중', 'Noun'), ('하나', 'Noun'), ('는', 'Josa'), ('문법', 'Noun'), ('에', 'Josa'), ('있다', 'Adjective')], [('프로그래머', 'Noun'), ('는', 'Josa'), ('자바', 'Noun'), ('에서', 'Josa'), ('코드', 'Noun'), ('를', 'Josa'), ('작성', 'Noun'), ('할', 'Verb'), ('때', 'Noun'), ('변수', 'Noun'), ('의', 'Josa'), ('데이터', 'Noun'), ('유형', 'Noun'), ('을', 'Josa'), ('정의', 'Noun'), ('해야', 'Verb'), ('한다', 'Verb')], [('그리고', 'Conjunction'), ('이', 'Noun'), ('데이터', 'Noun'), ('유형', 'Noun'), ('은', 'Josa'), ('명시', 'Noun'), ('적', 'Suffix'), ('으로', 'Josa'), ('변경', 'Noun'), ('할', 'Verb'), ('수', 'Noun'), ('없으며', 'Adjective'), ('프로그램', 'Noun'), ('의', 'Josa'), ('수명', 'Noun'), ('동안', 'Noun'), ('유지', 'Noun'), ('된다', 'Verb')], [('이는', 'Verb'), ('자바', 'Noun'), ('가', 'Josa'), ('강력한', 'Adjective'), ('타입', 'Noun'), ('화', 'Suffix'), ('된', 'Verb'), ('언어', 'Noun'), ('로', 'Josa'), ('만든다', 'Verb')], [('반면', 'Noun'), ('파이썬', 'Noun'), ('의', 'Josa'), ('경우', 'Noun'), ('변수', 'Noun'), ('의', 'Josa'), ('데이터', 'Noun'), ('타입', 'Noun'), ('이', 'Josa'), ('런타임', 'Noun'), ('에', 'Josa'), ('자동', 'Noun'), ('으로', 'Josa'), ('정의', 'Noun'), ('된다', 'Verb')], [('변수', 'Noun'), ('의', 'Josa'), ('타입', 'Noun'), ('은', 'Josa'), ('프로그램', 'Noun'), ('수명', 'Noun'), ('동안', 'Noun'), ('변경', 'Noun'), ('될', 'Verb'), ('수', 'Noun'), ('있으며', 'Adjective'), (',', 'Punctuation'), ('파이썬', 'Noun'), ('은', 'Josa'), ('동', 'Modifier'), ('적', 'Noun'), ('으로', 'Josa'), ('타입', 'Noun'), ('화', 'Suffix'), ('된', 'Verb'), ('프로그래밍', 'Noun'), ('언어', 'Noun'), ('가', 'Josa'), ('된다', 'Verb')], [('동', 'Modifier'), ('적', 'Noun'), ('타이핑', 'Noun'), ('을', 'Josa'), ('사용', 'Noun'), ('하면', 'Verb'), ('해당', 'Noun'), ('언어', 'Noun'), ('를', 'Josa'), ('사용', 'Noun'), ('하기', 'Verb'), ('쉽고', 'Verb'), ('코드', 'Noun'), ('줄', 'Noun'), ('수', 'Noun'), ('를', 'Josa'), ('줄일', 'Verb'), ('수', 'Noun'), ('있다', 'Adjective')], [('또한', 'Noun'), ('자바', 'Noun'), ('에서는', 'Josa'), ('쌍반점', 'Noun'), ('(;)', 'Punctuation'), ('을', 'Josa'), ('사용', 'Noun'), ('해', 'Verb'), ('구문', 'Noun'), ('을', 'Josa'), ('끝내지', 'Verb'), ('않거나', 'Verb'), ('중괄호', 'Noun'), ('를', 'Josa'), ('생략', 'Noun'), ('하면', 'Verb'), ('컴파일', 'Noun'), ('중', 'Noun'), ('오류', 'Noun'), ('가', 'Josa'), ('발생', 'Noun'), ('한다', 'Verb')], [('반면', 'Noun'), ('파이썬', 'Noun'), ('은', 'Josa'), ('이러한', 'Adjective'), ('복잡한', 'Adjective'), ('프로그래밍', 'Noun'), ('구조', 'Noun'), ('를', 'Josa'), ('따르지', 'Verb'), ('않아', 'Verb'), ('학습', 'Noun'), ('과', 'Josa'), ('사용', 'Noun'), ('이', 'Josa'), ('더', 'Noun'), ('쉽다', 'Verb')], [('속도', 'Noun'), ('의', 'Josa'), ('측면', 'Noun'), ('에서는', 'Josa'), ('자바', 'Noun'), ('가', 'Josa'), ('더', 'Noun'), ('유리하다', 'Adjective')], [('파이썬', 'Noun'), ('은', 'Josa'), ('소스', 'Noun'), ('코드', 'Noun'), ('를', 'Josa'), ('한', 'Verb'), ('줄', 'Noun'), ('한', 'Verb'), ('줄', 'Noun'), ('읽는', 'Verb'), ('해석', 'Noun'), ('된', 'Verb'), ('언어', 'Noun'), ('이다', 'Josa')], [('이는', 'Verb'), ('파이썬', 'Noun'), ('의', 'Josa'), ('소스', 'Noun'), ('코드', 'Noun'), ('속도', 'Noun'), ('를', 'Josa'), ('느리게', 'Adjective'), ('만든다', 'Verb')], [('실제', 'Noun'), ('로', 'Josa'), ('파이썬', 'Noun'), ('프로그래밍', 'Noun'), ('에서', 'Josa'), ('디버깅', 'Noun'), ('은', 'Josa'), ('런', 'Noun'), ('타입', 'Noun'), ('동안', 'Noun'), ('발생', 'Noun'), ('한다', 'Verb')], [('반면', 'Noun'), ('자바', 'Noun'), ('는', 'Josa'), ('동시', 'Noun'), ('에', 'Josa'), ('여러', 'Noun'), ('개', 'Noun'), ('의', 'Josa'), ('계산', 'Noun'), ('을', 'Josa'), ('수행', 'Noun'), ('한다', 'Verb')], [('파이썬', 'Noun'), ('과', 'Josa'), ('자바', 'Noun'), ('모두', 'Noun'), ('데이터', 'Noun'), ('과학', 'Noun'), (',', 'Punctuation'), ('데이터', 'Noun'), ('분석', 'Noun'), ('및', 'Noun'), ('머신', 'Noun'), ('러닝', 'Noun'), ('작업', 'Noun'), ('을', 'Josa'), ('지원', 'Noun'), ('하는', 'Verb'), ('라이브러리', 'Noun'), ('목록', 'Noun'), ('을', 'Josa'), ('제공', 'Noun'), ('한', 'Josa'), ('다', 'Adverb')], [('판', 'Noun'), ('다스', 'Noun'), ('(', 'Punctuation'), ('Pandas', 'Alpha'), (')', 'Punctuation'), (':', 'Punctuation'), ('판', 'Noun'), ('다스', 'Noun'), ('는', 'Josa'), ('파이썬', 'Noun'), ('에서', 'Josa'), ('가장', 'Noun'), ('인기', 'Noun'), ('있는', 'Adjective'), ('오픈', 'Noun'), ('소스', 'Noun'), ('라이브러리', 'Noun'), ('이다', 'Josa')], [('대', 'Modifier'), ('용량', 'Noun'), ('데이터', 'Noun'), ('집합', 'Noun'), ('을', 'Josa'), ('처리', 'Noun'), ('하는', 'Verb'), ('데', 'Noun'), ('사용', 'Noun'), ('되며', 'Verb'), (',', 'Punctuation'), ('데이터', 'Noun'), ('정렬', 'Noun'), (',', 'Punctuation'), ('고급', 'Noun'), ('인덱싱', 'Noun'), ('및', 'Noun'), ('누락', 'Noun'), ('된', 'Verb'), ('데이터', 'Noun'), ('처리', 'Noun'), ('와', 'Josa'), ('같은', 'Adjective'), ('직관', 'Noun'), ('적', 'Suffix'), ('인', 'Josa'), ('기능', 'Noun'), ('과', 'Josa'), ('함께', 'Adverb'), ('유연하고', 'Adjective'), ('빠르고', 'Adjective'), ('표현', 'Noun'), ('력', 'Suffix'), ('이', 'Josa'), ('뛰어난', 'Adjective'), ('데이터', 'Noun'), ('구조', 'Noun'), ('를', 'Josa'), ('제공', 'Noun'), ('한', 'Josa'), ('다', 'Adverb')], [('싸이', 'Noun'), ('파이', 'Noun'), ('(', 'Punctuation'), ('SciPy', 'Alpha'), (',', 'Punctuation'), ('Scientific', 'Alpha'), ('Python', 'Alpha'), (')', 'Punctuation'), (':', 'Punctuation'), ('이름', 'Noun'), ('에서', 'Josa'), ('알', 'Noun'), ('수', 'Noun'), ('있듯이', 'Adjective'), ('싸이', 'Noun'), ('파이는', 'Verb'), ('과학', 'Noun'), (',', 'Punctuation'), ('복합', 'Noun'), ('적', 'Suffix'), ('수학', 'Noun'), (',', 'Punctuation'), ('공학', 'Noun'), ('과', 'Josa'), ('관련', 'Noun'), ('된', 'Verb'), ('문제', 'Noun'), ('를', 'Josa'), ('푸는', 'Verb'), ('데', 'Noun'), ('사용', 'Noun'), ('된다', 'Verb')], [('통계', 'Noun'), (',', 'Punctuation'), ('선형', 'Noun'), ('대수', 'Noun'), (',', 'Punctuation'), ('최적화', 'Noun'), ('및', 'Noun'), ('통합', 'Noun'), ('을', 'Josa'), ('위', 'Noun'), ('한', 'Josa'), ('루틴', 'Noun'), ('을', 'Josa'), ('제공', 'Noun'), ('한', 'Josa'), ('다', 'Adverb')], [('넘', 'Verb'), ('파이', 'Noun'), ('(', 'Punctuation'), ('NumPy', 'Alpha'), (',', 'Punctuation'), ('Numerical', 'Alpha'), ('Python', 'Alpha'), (')', 'Punctuation'), (':', 'Punctuation'), ('넘', 'Verb'), ('파이는', 'Verb'), ('통계', 'Noun'), ('및', 'Noun'), ('수학', 'Noun'), ('적', 'Suffix'), ('계산', 'Noun'), ('을', 'Josa'), ('위', 'Noun'), ('한', 'Josa'), ('기초', 'Noun'), ('적', 'Suffix'), ('인', 'Josa'), ('도구', 'Noun'), ('이다', 'Josa')], [('넘', 'Verb'), ('파이', 'Noun'), ('위', 'Noun'), ('에', 'Josa'), ('싸이', 'Noun'), ('파이', 'Noun'), (',', 'Punctuation'), ('판', 'Noun'), ('다스', 'Noun'), (',', 'Punctuation'), ('매트', 'Noun'), ('플롯', 'Noun'), ('라이브러리', 'Noun'), ('(', 'Punctuation'), ('Matplotlib', 'Alpha'), ('),', 'Punctuation'), ('스테츠모델스', 'Noun'), ('(', 'Punctuation'), ('Statsmodels', 'Alpha'), (')', 'Punctuation'), ('를', 'Noun'), ('포함', 'Noun'), ('한', 'Josa'), ('라이브러리', 'Noun'), ('들', 'Suffix'), ('이', 'Josa'), ('세워진다', 'Verb')], [('텐서', 'Noun'), ('플로', 'Noun'), ('(', 'Punctuation'), ('TensoFlow', 'Alpha'), (')', 'Punctuation'), (':', 'Punctuation'), ('텐서', 'Noun'), ('플로', 'Noun'), ('는', 'Josa'), ('구글', 'Noun'), ('브레인', 'Noun'), ('팀', 'Noun'), ('이', 'Josa'), ('개발', 'Noun'), ('한', 'Josa'), ('오픈', 'Noun'), ('소스', 'Noun'), ('라이브러리', 'Noun'), ('로', 'Josa'), ('주로', 'Noun'), ('파이썬', 'Noun'), ('의', 'Josa'), ('딥', 'Noun'), ('러닝', 'Noun'), ('애플리케이션', 'Noun'), ('에', 'Josa'), ('사용', 'Noun'), ('된다', 'Verb')], [('ML', 'Alpha'), ('기반', 'Noun'), ('애플리케이션', 'Noun'), ('의', 'Josa'), ('배치', 'Noun'), ('를', 'Josa'), ('돕는다', 'Verb')], [('WEKA', 'Alpha'), ('3', 'Number'), (':', 'Punctuation'), ('지식', 'Noun'), ('분석', 'Noun'), ('을', 'Josa'), ('위', 'Noun'), ('한', 'Josa'), ('와이카토', 'Noun'), ('(', 'Punctuation'), ('Waikato', 'Alpha'), (')', 'Punctuation'), ('환경', 'Noun'), ('의', 'Josa'), ('줄임말로', 'Verb'), ('데이터', 'Noun'), ('구현', 'Noun'), ('과', 'Josa'), ('처리', 'Noun'), ('도구', 'Noun'), ('를', 'Josa'), ('제공', 'Noun'), ('하는', 'Verb'), ('오픈', 'Noun'), ('소스', 'Noun'), ('소프트웨어', 'Noun'), ('이다', 'Josa')], [('예측', 'Noun'), ('모델링', 'Noun'), (',', 'Punctuation'), ('데이터', 'Noun'), ('마', 'Noun'), ('이닝', 'Noun'), ('및', 'Noun'), ('분석', 'Noun'), ('에', 'Josa'), ('주로', 'Noun'), ('사용', 'Noun'), ('한', 'Josa'), ('다', 'Adverb')], [('아파치', 'Noun'), ('스파크', 'Noun'), ('(', 'Punctuation'), ('Apache', 'Alpha'), ('Spark', 'Alpha'), (')', 'Punctuation'), (':', 'Punctuation'), ('빅데이터', 'Noun'), ('처리', 'Noun'), ('를', 'Josa'), ('위', 'Noun'), ('한', 'Josa'), ('사용', 'Noun'), ('하기', 'Verb'), ('쉽고', 'Verb'), ('빠른', 'Adjective'), ('엔진', 'Noun'), ('이다', 'Josa')], [('아파치', 'Noun'), ('하둡', 'Noun'), ('맵리듀스', 'Noun'), ('(', 'Punctuation'), ('Apache', 'Alpha'), ('Hadoop', 'Alpha'), ('MapReduce', 'Alpha'), (')', 'Punctuation'), ('를', 'Noun'), ('기반', 'Noun'), ('으로', 'Josa'), ('하며', 'Verb'), ('주로', 'Noun'), ('대규모', 'Noun'), ('데이터', 'Noun'), ('셋', 'Noun'), ('을', 'Josa'), ('처리', 'Noun'), ('하는', 'Verb'), ('데', 'Noun'), ('사용', 'Noun'), ('된다', 'Verb')], [('여기', 'Noun'), ('에', 'Josa'), ('스파크', 'Noun'), ('SQL', 'Alpha'), (',', 'Punctuation'), ('스파크', 'Noun'), ('스트리밍', 'Noun'), (',', 'Punctuation'), ('스파크', 'Noun'), ('머신', 'Noun'), ('러닝', 'Noun'), ('라이브러리', 'Noun'), ('등', 'Noun'), ('의', 'Josa'), ('모듈', 'Noun'), ('이', 'Josa'), ('내장', 'Noun'), ('되어있다', 'Verb')], [('자바', 'Noun'), ('머신', 'Noun'), ('러닝', 'Noun'), ('(', 'Punctuation'), ('Java', 'Alpha'), ('Machine', 'Alpha'), ('Learning', 'Alpha'), ('):', 'Punctuation'), ('자바', 'Noun'), ('머신', 'Noun'), ('러닝', 'Noun'), ('라이브러리', 'Noun'), ('는', 'Josa'), ('데이터', 'Noun'), ('분류', 'Noun'), (',', 'Punctuation'), ('처리', 'Noun'), ('및', 'Noun'), ('클러', 'Verb'), ('스팅', 'Noun'), ('에', 'Josa'), ('사용', 'Noun'), ('할', 'Verb'), ('수', 'Noun'), ('있는', 'Adjective'), ('방대한', 'Adjective'), ('머신', 'Noun'), ('러닝', 'Noun'), ('및', 'Noun'), ('데이터', 'Noun'), ('마', 'Noun'), ('이닝', 'Noun'), ('알고리즘', 'Noun'), ('을', 'Josa'), ('제공', 'Noun'), ('한', 'Josa'), ('다', 'Adverb')], [('딥', 'Noun'), ('러닝', 'Noun'), ('4', 'Number'), ('j', 'Alpha'), ('(', 'Punctuation'), ('Deeplearning', 'Alpha'), ('4', 'Number'), ('j', 'Alpha'), ('):', 'Punctuation'), ('딥', 'Noun'), ('러닝', 'Noun'), ('4', 'Number'), ('j', 'Alpha'), ('는', 'Verb'), ('자바', 'Noun'), ('프로그래머', 'Noun'), ('들', 'Suffix'), ('이', 'Josa'), ('머신', 'Noun'), ('러닝', 'Noun'), ('애플리케이션', 'Noun'), ('을', 'Josa'), ('만들', 'Verb'), ('수', 'Noun'), ('있도록', 'Adjective'), ('도와주는', 'Verb'), ('오픈', 'Noun'), ('소스', 'Noun'), ('라이브러리', 'Noun'), ('이다', 'Josa')], [('파이썬', 'Noun'), ('의', 'Josa'), ('학습', 'Noun'), ('곡선', 'Noun'), ('이', 'Josa'), ('자바', 'Noun'), ('만큼', 'Josa'), ('가파르', 'Noun'), ('지', 'Josa'), ('않기', 'Verb'), ('때문', 'Noun'), ('에', 'Josa'), (',', 'Punctuation'), ('머신', 'Noun'), ('러닝', 'Noun'), ('프로그래머', 'Noun'), (',', 'Punctuation'), ('특히', 'Adverb'), ('초보자', 'Noun'), ('들', 'Suffix'), ('은', 'Josa'), ('자바', 'Noun'), ('보다', 'Josa'), ('파이썬', 'Noun'), ('을', 'Josa'), ('선호', 'Noun'), ('한다', 'Verb')], [('실제', 'Noun'), ('로', 'Josa'), ('파이썬', 'Noun'), ('은', 'Josa'), (\"'\", 'Punctuation'), ('초보자', 'Noun'), ('언어', 'Noun'), (\"'\", 'Punctuation'), ('로', 'Noun'), ('꼽히는데', 'Verb'), (',', 'Punctuation'), ('머신', 'Noun'), ('러닝', 'Noun'), ('과', 'Josa'), ('데이터', 'Noun'), ('사이언스', 'Noun'), ('온라인', 'Noun'), ('학습', 'Noun'), ('강좌', 'Noun'), ('대부분', 'Noun'), ('이', 'Josa'), ('초보자', 'Noun'), ('친', 'Noun'), ('화', 'Suffix'), ('적', 'Noun'), ('기능', 'Noun'), ('을', 'Josa'), ('위해', 'Noun'), ('파이썬', 'Noun'), ('을', 'Josa'), ('강조', 'Noun'), ('하고', 'Josa'), ('있어', 'Adjective'), ('데이터', 'Noun'), ('과학', 'Noun'), ('분야', 'Noun'), ('에서', 'Josa'), ('파이썬', 'Noun'), ('의', 'Josa'), ('인기', 'Noun'), ('가', 'Josa'), ('높아지고', 'Verb'), ('있다', 'Adjective')], [('한편', 'Noun'), ('연구자', 'Noun'), ('들', 'Suffix'), ('은', 'Josa'), ('자신', 'Noun'), ('만의', 'Josa'), ('라이브러리', 'Noun'), ('를', 'Josa'), ('만들', 'Verb'), ('때', 'Noun'), ('깃허브', 'Noun'), ('(', 'Punctuation'), ('GitHub', 'Alpha'), (')', 'Punctuation'), ('와', 'Verb'), ('같은', 'Adjective'), ('오픈', 'Noun'), ('소스', 'Noun'), ('플랫폼', 'Noun'), ('에', 'Josa'), ('업로드', 'Noun'), ('한다', 'Verb')], [('이러한', 'Adjective'), ('대규모', 'Noun'), ('개발자', 'Noun'), ('컴퓨니티', 'Noun'), ('지원', 'Noun'), ('으로', 'Josa'), ('머신', 'Noun'), ('러닝', 'Noun'), ('애플리케이션', 'Noun'), ('을', 'Josa'), ('개발', 'Noun'), ('할', 'Verb'), ('때', 'Noun'), ('파이썬', 'Noun'), ('을', 'Josa'), ('사용', 'Noun'), ('하는', 'Verb'), ('것', 'Noun'), ('이', 'Josa'), ('더', 'Noun'), ('용이해진다', 'Adjective')], []]\n",
            "time : 0.4514763355255127\n"
          ]
        }
      ]
    },
    {
      "cell_type": "code",
      "metadata": {
        "colab": {
          "base_uri": "https://localhost:8080/"
        },
        "id": "XZSKTy3XHHVo",
        "outputId": "6b97a65e-b1bf-49c7-b75c-55879ecc9cf6"
      },
      "source": [
        "# 병렬처리 실행시간\n",
        "\n",
        "start = time()\n",
        "print(parallel_processing_part_tagging(sample['contents']))\n",
        "end = time()\n",
        "print(\"time :\", end - start)"
      ],
      "execution_count": 85,
      "outputs": [
        {
          "output_type": "stream",
          "name": "stdout",
          "text": [
            "[[('파이썬', 'Noun'), ('런타임', 'Noun'), ('을', 'Josa'), ('변경', 'Noun'), ('해', 'Verb'), ('멀티스레드', 'Noun'), ('성능', 'Noun'), ('을', 'Josa'), ('강화하는', 'Adjective'), ('새로운', 'Adjective'), ('프로젝트', 'Noun'), ('가', 'Josa'), ('제안', 'Noun'), ('됐다', 'Verb')], [('파이썬', 'Noun'), ('개발', 'Noun'), ('팀', 'Noun'), ('도', 'Josa'), ('해당', 'Noun'), ('개념', 'Noun'), ('증명', 'Noun'), ('에', 'Josa'), ('관심', 'Noun'), ('을', 'Josa'), ('보였다', 'Verb')], [('파이썬', 'Noun'), ('의', 'Josa'), ('고질', 'Noun'), ('적', 'Suffix'), ('인', 'Josa'), ('약점', 'Noun'), ('(', 'Punctuation'), ('멀티스레드', 'Noun'), ('환경', 'Noun'), ('에서', 'Josa'), ('잘', 'Verb'), ('확장', 'Noun'), ('되지', 'Verb'), ('않는다는', 'Verb'), ('것', 'Noun'), (')', 'Punctuation'), ('이', 'Noun'), ('해당', 'Noun'), ('프로그래밍', 'Noun'), ('언어', 'Noun'), ('개발', 'Noun'), ('팀', 'Noun'), ('의', 'Josa'), ('새로운', 'Adjective'), ('목표', 'Noun'), ('가', 'Josa'), ('될지도', 'Verb'), ('모른다', 'Verb')], [('지난', 'Noun'), ('10월', 'Number'), ('7일', 'Number'), ('(', 'Punctuation'), ('현지', 'Noun'), ('시각', 'Noun'), (')', 'Punctuation'), ('개발자', 'Noun'), ('샘', 'Noun'), ('그', 'Determiner'), ('로스', 'Noun'), ('가', 'Josa'), ('파이썬', 'Noun'), ('의', 'Josa'), ('참조', 'Noun'), ('구현', 'Noun'), ('C', 'Alpha'), ('파이썬', 'Noun'), ('의', 'Josa'), ('핵심', 'Noun'), ('구성요소', 'Noun'), ('‘', 'Foreign'), ('GIL', 'Alpha'), ('(', 'Punctuation'), ('Global', 'Alpha'), ('Interpreter', 'Alpha'), ('Lock', 'Alpha'), (')’', 'Punctuation'), ('에', 'Josa'), ('관', 'Noun'), ('한', 'Josa'), ('변경', 'Noun'), ('사항', 'Noun'), ('을', 'Josa'), ('제안', 'Noun'), ('했다', 'Verb')], [('만약', 'Noun'), ('파이썬', 'Noun'), ('개발', 'Noun'), ('팀', 'Noun'), ('에서', 'Josa'), ('그', 'Noun'), ('의', 'Josa'), ('제안', 'Noun'), ('을', 'Josa'), ('받아들인다면', 'Verb'), ('이는', 'Verb'), ('파이썬', 'Noun'), ('이', 'Josa'), ('런타임', 'Noun'), ('에서', 'Josa'), ('멀티스레드', 'Noun'), ('로부터', 'Noun'), ('객체', 'Noun'), ('액세스', 'Noun'), ('를', 'Josa'), ('직렬', 'Noun'), ('화하는', 'Adjective'), ('방식', 'Noun'), ('을', 'Josa'), ('변경', 'Noun'), ('하고', 'Josa'), (',', 'Punctuation'), ('멀티스레드', 'Noun'), ('성능', 'Noun'), ('을', 'Josa'), ('크게', 'Noun'), ('향상', 'Noun'), ('시킬', 'Verb'), ('것', 'Noun'), ('으로', 'Josa'), ('예상', 'Noun'), ('된다', 'Verb')], [('GIL', 'Alpha'), ('은', 'Noun'), ('오랫동안', 'Adverb'), ('C', 'Alpha'), ('파이썬', 'Noun'), ('(', 'Punctuation'), ('그리고', 'Conjunction'), ('파이썬', 'Noun'), (')', 'Punctuation'), ('에서', 'Josa'), ('더', 'Noun'), ('나은', 'Noun'), ('멀티스레드', 'Noun'), ('성능', 'Noun'), ('의', 'Josa'), ('장애물', 'Noun'), ('로', 'Josa'), ('간주', 'Noun'), ('돼', 'Verb'), ('왔다', 'Verb')], [('수년', 'Noun'), ('동안', 'Noun'), ('이를', 'Verb'), ('제거', 'Noun'), ('하려는', 'Verb'), ('많은', 'Adjective'), ('시도', 'Noun'), ('가', 'Josa'), ('있었다', 'Adjective')], [('하지만', 'Conjunction'), ('대다수', 'Noun'), ('의', 'Josa'), ('기존', 'Noun'), ('파이썬', 'Noun'), ('애플리케이션', 'Noun'), ('을', 'Josa'), ('느리게', 'Adjective'), ('만들어', 'Verb'), ('단일', 'Noun'), ('스레드', 'Noun'), ('성능', 'Noun'), ('을', 'Josa'), ('저하', 'Noun'), ('시키는', 'Verb'), ('문제', 'Noun'), ('를', 'Josa'), ('해결', 'Noun'), ('할', 'Verb'), ('수', 'Noun'), ('없었다', 'Adjective')], [('스레드', 'Noun'), ('및', 'Noun'), ('멀티프로세싱', 'Noun'), ('을', 'Josa'), ('다루는', 'Verb'), ('파이썬', 'Noun'), ('의', 'Josa'), ('현', 'Noun'), ('메타포', 'Noun'), ('는', 'Josa'), ('높은', 'Adjective'), ('병렬', 'Noun'), ('처리', 'Noun'), ('가', 'Josa'), ('불가능한', 'Adjective'), ('건', 'Noun'), ('아니다', 'Adjective')], [('하지만', 'Conjunction'), ('개발자', 'Noun'), ('가', 'Josa'), ('작업', 'Noun'), ('을', 'Josa'), ('완료', 'Noun'), ('하기', 'Verb'), ('위', 'Noun'), ('해서는', 'Verb'), ('다스', 'Noun'), ('크', 'Verb'), ('(', 'Punctuation'), ('Dask', 'Alpha'), (')', 'Punctuation'), ('등', 'Noun'), ('의', 'Josa'), ('서', 'Modifier'), ('드', 'Noun'), ('파티', 'Noun'), ('모듈', 'Noun'), ('을', 'Josa'), ('사용', 'Noun'), ('해야', 'Verb'), ('했다', 'Verb')], [('새로운', 'Adjective'), ('제안', 'Noun'), ('은', 'Josa'), ('파이썬', 'Noun'), ('객체', 'Noun'), ('의', 'Josa'), ('참조', 'Noun'), ('카운팅', 'Noun'), ('방식', 'Noun'), ('을', 'Josa'), ('변경', 'Noun'), ('하여', 'Verb'), ('객체', 'Noun'), ('를', 'Josa'), ('소유', 'Noun'), ('한', 'Josa'), ('스레드', 'Noun'), ('의', 'Josa'), ('참조', 'Noun'), ('가', 'Josa'), ('다른', 'Noun'), ('스레드', 'Noun'), ('의', 'Josa'), ('참조', 'Noun'), ('와', 'Josa'), ('다르게', 'Adjective'), ('처리', 'Noun'), ('되도록', 'Verb'), ('한다', 'Verb')], [('그', 'Determiner'), ('로스', 'Noun'), ('에', 'Josa'), ('따르면', 'Verb'), ('단일', 'Noun'), ('스레드', 'Noun'), ('성능', 'Noun'), ('벤치마크', 'Noun'), ('에서', 'Josa'), ('GIL', 'Alpha'), ('를', 'Noun'), ('제거', 'Noun'), ('한', 'Josa'), ('새로운', 'Adjective'), ('인터프리터', 'Noun'), ('는', 'Josa'), ('C', 'Alpha'), ('파이썬', 'Noun'), ('3', 'Number')], [('9', 'Number'), ('인터프리터', 'Noun'), ('보다', 'Josa'), ('약', 'Noun'), ('10%', 'Number'), ('빠른', 'Adjective'), ('것', 'Noun'), ('으로', 'Josa'), ('나타났다', 'Verb')], [('또한', 'Noun'), ('일부', 'Noun'), ('벤치마크', 'Noun'), ('에서', 'Josa'), ('멀티스레드', 'Noun'), ('성능', 'Noun'), ('은', 'Josa'), ('새로운', 'Adjective'), ('스레드', 'Noun'), ('에', 'Josa'), ('따라', 'Verb'), ('거의', 'Noun'), ('선형', 'Noun'), ('적', 'Suffix'), ('으로', 'Josa'), ('확장', 'Noun'), ('됐다', 'Verb')], [('예', 'Noun'), ('를', 'Josa'), ('들면', 'Verb'), ('20', 'Number'), ('개', 'Noun'), ('의', 'Josa'), ('스레드', 'Noun'), ('를', 'Josa'), ('사용', 'Noun'), ('할', 'Verb'), ('때', 'Noun'), ('한', 'Verb'), ('벤치마크', 'Noun'), ('에서는', 'Josa'), ('최대', 'Noun'), ('18', 'Number')], [('1', 'Number'), ('배', 'Noun'), (',', 'Punctuation'), ('다른', 'Noun'), ('벤치마크', 'Noun'), ('에서는', 'Josa'), ('최대', 'Noun'), ('19', 'Number')], [('8', 'Number'), ('배', 'Noun'), ('빨라졌다고', 'Adjective'), ('그', 'Noun'), ('는', 'Josa'), ('언급', 'Noun'), ('했다', 'Verb')], [('이어서', 'Adverb'), ('이는', 'Verb'), ('파이썬', 'Noun'), ('의', 'Josa'), ('내부', 'Noun'), ('(', 'Punctuation'), ('예', 'Noun'), (':', 'Punctuation'), ('C', 'Alpha'), ('파이썬', 'Noun'), (')', 'Punctuation'), ('에서', 'Josa'), ('작동', 'Noun'), ('하는', 'Verb'), ('기존', 'Noun'), ('파이썬', 'Noun'), ('라이브러리', 'Noun'), ('를', 'Josa'), ('상당', 'Noun'), ('수', 'Noun'), ('다시', 'Noun'), ('작성', 'Noun'), ('해야', 'Verb'), ('할', 'Verb'), ('만큼', 'Noun'), ('큰', 'Verb'), ('변경', 'Noun'), ('사항', 'Noun'), ('이라고', 'Josa'), ('그', 'Determiner'), ('로스', 'Noun'), ('는', 'Josa'), ('덧붙였다', 'Verb')], [('파이썬', 'Noun'), ('(', 'Punctuation'), ('Python', 'Alpha'), (')', 'Punctuation'), ('과', 'Noun'), ('자바', 'Noun'), ('(', 'Punctuation'), ('Java', 'Alpha'), (')', 'Punctuation'), ('는', 'Verb'), ('가장', 'Noun'), ('많이', 'Adverb'), ('사용', 'Noun'), ('되는', 'Verb'), (',', 'Punctuation'), ('인기', 'Noun'), ('있는', 'Adjective'), ('프로그래밍', 'Noun'), ('언어', 'Noun'), ('중', 'Noun'), ('하나', 'Noun'), ('이다', 'Josa')], [('올해', 'Noun'), ('10월', 'Number'), ('티', 'Noun'), ('오', 'Modifier'), ('베', 'Noun'), ('지수', 'Noun'), ('(', 'Punctuation'), ('TIOBE', 'Alpha'), ('Index', 'Alpha'), (')', 'Punctuation'), ('에서', 'Josa'), ('파이썬', 'Noun'), ('이', 'Josa'), ('자바', 'Noun'), ('를', 'Josa'), ('제', 'Modifier'), ('치', 'Noun'), ('며', 'Josa'), ('20', 'Number'), ('여', 'Noun'), ('년', 'Noun'), ('만에', 'Josa'), ('가장', 'Noun'), ('인기', 'Noun'), ('있는', 'Adjective'), ('프로그래밍', 'Noun'), ('언어', 'Noun'), ('로', 'Josa'), ('올라섰다', 'Verb')], [('자바', 'Noun'), ('와', 'Josa'), ('파이썬', 'Noun'), ('모두', 'Noun'), ('객체', 'Noun'), ('지향', 'Noun'), ('프로그래밍', 'Noun'), ('언어', 'Noun'), ('로', 'Josa'), ('오늘날', 'Noun'), ('데이터', 'Noun'), ('과학', 'Noun'), ('에서', 'Josa'), ('가장', 'Noun'), ('선호', 'Noun'), ('되는', 'Verb'), ('언어', 'Noun'), ('이기도', 'Josa'), ('하다', 'Verb')], [('그런데', 'Conjunction'), ('데이터', 'Noun'), ('과학', 'Noun'), ('을', 'Josa'), ('위해', 'Noun'), ('선', 'Noun'), ('어떤', 'Adjective'), ('언어', 'Noun'), ('를', 'Josa'), ('선택', 'Noun'), ('해야', 'Verb'), ('할까', 'Verb'), ('?', 'Punctuation'), ('애', 'Noun'), ('널리', 'Noun'), ('티스', 'Noun'), ('인디아', 'Noun'), ('매거진이', 'Verb'), ('데이터', 'Noun'), ('과학', 'Noun'), ('관점', 'Noun'), ('에서', 'Josa'), ('파이썬', 'Noun'), ('과', 'Josa'), ('자바', 'Noun'), ('의', 'Josa'), ('문법', 'Noun'), (',', 'Punctuation'), ('퍼포먼스', 'Noun'), (',', 'Punctuation'), ('프레임워크', 'Noun'), ('및', 'Noun'), ('도구', 'Noun'), ('를', 'Josa'), ('비교', 'Noun'), ('했다', 'Verb')], [('자바', 'Noun'), ('와', 'Josa'), ('파이썬', 'Noun'), ('의', 'Josa'), ('주요', 'Noun'), ('차이점', 'Noun'), ('중', 'Noun'), ('하나', 'Noun'), ('는', 'Josa'), ('문법', 'Noun'), ('에', 'Josa'), ('있다', 'Adjective')], [('프로그래머', 'Noun'), ('는', 'Josa'), ('자바', 'Noun'), ('에서', 'Josa'), ('코드', 'Noun'), ('를', 'Josa'), ('작성', 'Noun'), ('할', 'Verb'), ('때', 'Noun'), ('변수', 'Noun'), ('의', 'Josa'), ('데이터', 'Noun'), ('유형', 'Noun'), ('을', 'Josa'), ('정의', 'Noun'), ('해야', 'Verb'), ('한다', 'Verb')], [('그리고', 'Conjunction'), ('이', 'Noun'), ('데이터', 'Noun'), ('유형', 'Noun'), ('은', 'Josa'), ('명시', 'Noun'), ('적', 'Suffix'), ('으로', 'Josa'), ('변경', 'Noun'), ('할', 'Verb'), ('수', 'Noun'), ('없으며', 'Adjective'), ('프로그램', 'Noun'), ('의', 'Josa'), ('수명', 'Noun'), ('동안', 'Noun'), ('유지', 'Noun'), ('된다', 'Verb')], [('이는', 'Verb'), ('자바', 'Noun'), ('가', 'Josa'), ('강력한', 'Adjective'), ('타입', 'Noun'), ('화', 'Suffix'), ('된', 'Verb'), ('언어', 'Noun'), ('로', 'Josa'), ('만든다', 'Verb')], [('반면', 'Noun'), ('파이썬', 'Noun'), ('의', 'Josa'), ('경우', 'Noun'), ('변수', 'Noun'), ('의', 'Josa'), ('데이터', 'Noun'), ('타입', 'Noun'), ('이', 'Josa'), ('런타임', 'Noun'), ('에', 'Josa'), ('자동', 'Noun'), ('으로', 'Josa'), ('정의', 'Noun'), ('된다', 'Verb')], [('변수', 'Noun'), ('의', 'Josa'), ('타입', 'Noun'), ('은', 'Josa'), ('프로그램', 'Noun'), ('수명', 'Noun'), ('동안', 'Noun'), ('변경', 'Noun'), ('될', 'Verb'), ('수', 'Noun'), ('있으며', 'Adjective'), (',', 'Punctuation'), ('파이썬', 'Noun'), ('은', 'Josa'), ('동', 'Modifier'), ('적', 'Noun'), ('으로', 'Josa'), ('타입', 'Noun'), ('화', 'Suffix'), ('된', 'Verb'), ('프로그래밍', 'Noun'), ('언어', 'Noun'), ('가', 'Josa'), ('된다', 'Verb')], [('동', 'Modifier'), ('적', 'Noun'), ('타이핑', 'Noun'), ('을', 'Josa'), ('사용', 'Noun'), ('하면', 'Verb'), ('해당', 'Noun'), ('언어', 'Noun'), ('를', 'Josa'), ('사용', 'Noun'), ('하기', 'Verb'), ('쉽고', 'Verb'), ('코드', 'Noun'), ('줄', 'Noun'), ('수', 'Noun'), ('를', 'Josa'), ('줄일', 'Verb'), ('수', 'Noun'), ('있다', 'Adjective')], [('또한', 'Noun'), ('자바', 'Noun'), ('에서는', 'Josa'), ('쌍반점', 'Noun'), ('(;)', 'Punctuation'), ('을', 'Josa'), ('사용', 'Noun'), ('해', 'Verb'), ('구문', 'Noun'), ('을', 'Josa'), ('끝내지', 'Verb'), ('않거나', 'Verb'), ('중괄호', 'Noun'), ('를', 'Josa'), ('생략', 'Noun'), ('하면', 'Verb'), ('컴파일', 'Noun'), ('중', 'Noun'), ('오류', 'Noun'), ('가', 'Josa'), ('발생', 'Noun'), ('한다', 'Verb')], [('반면', 'Noun'), ('파이썬', 'Noun'), ('은', 'Josa'), ('이러한', 'Adjective'), ('복잡한', 'Adjective'), ('프로그래밍', 'Noun'), ('구조', 'Noun'), ('를', 'Josa'), ('따르지', 'Verb'), ('않아', 'Verb'), ('학습', 'Noun'), ('과', 'Josa'), ('사용', 'Noun'), ('이', 'Josa'), ('더', 'Noun'), ('쉽다', 'Verb')], [('속도', 'Noun'), ('의', 'Josa'), ('측면', 'Noun'), ('에서는', 'Josa'), ('자바', 'Noun'), ('가', 'Josa'), ('더', 'Noun'), ('유리하다', 'Adjective')], [('파이썬', 'Noun'), ('은', 'Josa'), ('소스', 'Noun'), ('코드', 'Noun'), ('를', 'Josa'), ('한', 'Verb'), ('줄', 'Noun'), ('한', 'Verb'), ('줄', 'Noun'), ('읽는', 'Verb'), ('해석', 'Noun'), ('된', 'Verb'), ('언어', 'Noun'), ('이다', 'Josa')], [('이는', 'Verb'), ('파이썬', 'Noun'), ('의', 'Josa'), ('소스', 'Noun'), ('코드', 'Noun'), ('속도', 'Noun'), ('를', 'Josa'), ('느리게', 'Adjective'), ('만든다', 'Verb')], [('실제', 'Noun'), ('로', 'Josa'), ('파이썬', 'Noun'), ('프로그래밍', 'Noun'), ('에서', 'Josa'), ('디버깅', 'Noun'), ('은', 'Josa'), ('런', 'Noun'), ('타입', 'Noun'), ('동안', 'Noun'), ('발생', 'Noun'), ('한다', 'Verb')], [('반면', 'Noun'), ('자바', 'Noun'), ('는', 'Josa'), ('동시', 'Noun'), ('에', 'Josa'), ('여러', 'Noun'), ('개', 'Noun'), ('의', 'Josa'), ('계산', 'Noun'), ('을', 'Josa'), ('수행', 'Noun'), ('한다', 'Verb')], [('파이썬', 'Noun'), ('과', 'Josa'), ('자바', 'Noun'), ('모두', 'Noun'), ('데이터', 'Noun'), ('과학', 'Noun'), (',', 'Punctuation'), ('데이터', 'Noun'), ('분석', 'Noun'), ('및', 'Noun'), ('머신', 'Noun'), ('러닝', 'Noun'), ('작업', 'Noun'), ('을', 'Josa'), ('지원', 'Noun'), ('하는', 'Verb'), ('라이브러리', 'Noun'), ('목록', 'Noun'), ('을', 'Josa'), ('제공', 'Noun'), ('한', 'Josa'), ('다', 'Adverb')], [('판', 'Noun'), ('다스', 'Noun'), ('(', 'Punctuation'), ('Pandas', 'Alpha'), (')', 'Punctuation'), (':', 'Punctuation'), ('판', 'Noun'), ('다스', 'Noun'), ('는', 'Josa'), ('파이썬', 'Noun'), ('에서', 'Josa'), ('가장', 'Noun'), ('인기', 'Noun'), ('있는', 'Adjective'), ('오픈', 'Noun'), ('소스', 'Noun'), ('라이브러리', 'Noun'), ('이다', 'Josa')], [('대', 'Modifier'), ('용량', 'Noun'), ('데이터', 'Noun'), ('집합', 'Noun'), ('을', 'Josa'), ('처리', 'Noun'), ('하는', 'Verb'), ('데', 'Noun'), ('사용', 'Noun'), ('되며', 'Verb'), (',', 'Punctuation'), ('데이터', 'Noun'), ('정렬', 'Noun'), (',', 'Punctuation'), ('고급', 'Noun'), ('인덱싱', 'Noun'), ('및', 'Noun'), ('누락', 'Noun'), ('된', 'Verb'), ('데이터', 'Noun'), ('처리', 'Noun'), ('와', 'Josa'), ('같은', 'Adjective'), ('직관', 'Noun'), ('적', 'Suffix'), ('인', 'Josa'), ('기능', 'Noun'), ('과', 'Josa'), ('함께', 'Adverb'), ('유연하고', 'Adjective'), ('빠르고', 'Adjective'), ('표현', 'Noun'), ('력', 'Suffix'), ('이', 'Josa'), ('뛰어난', 'Adjective'), ('데이터', 'Noun'), ('구조', 'Noun'), ('를', 'Josa'), ('제공', 'Noun'), ('한', 'Josa'), ('다', 'Adverb')], [('싸이', 'Noun'), ('파이', 'Noun'), ('(', 'Punctuation'), ('SciPy', 'Alpha'), (',', 'Punctuation'), ('Scientific', 'Alpha'), ('Python', 'Alpha'), (')', 'Punctuation'), (':', 'Punctuation'), ('이름', 'Noun'), ('에서', 'Josa'), ('알', 'Noun'), ('수', 'Noun'), ('있듯이', 'Adjective'), ('싸이', 'Noun'), ('파이는', 'Verb'), ('과학', 'Noun'), (',', 'Punctuation'), ('복합', 'Noun'), ('적', 'Suffix'), ('수학', 'Noun'), (',', 'Punctuation'), ('공학', 'Noun'), ('과', 'Josa'), ('관련', 'Noun'), ('된', 'Verb'), ('문제', 'Noun'), ('를', 'Josa'), ('푸는', 'Verb'), ('데', 'Noun'), ('사용', 'Noun'), ('된다', 'Verb')], [('통계', 'Noun'), (',', 'Punctuation'), ('선형', 'Noun'), ('대수', 'Noun'), (',', 'Punctuation'), ('최적화', 'Noun'), ('및', 'Noun'), ('통합', 'Noun'), ('을', 'Josa'), ('위', 'Noun'), ('한', 'Josa'), ('루틴', 'Noun'), ('을', 'Josa'), ('제공', 'Noun'), ('한', 'Josa'), ('다', 'Adverb')], [('넘', 'Verb'), ('파이', 'Noun'), ('(', 'Punctuation'), ('NumPy', 'Alpha'), (',', 'Punctuation'), ('Numerical', 'Alpha'), ('Python', 'Alpha'), (')', 'Punctuation'), (':', 'Punctuation'), ('넘', 'Verb'), ('파이는', 'Verb'), ('통계', 'Noun'), ('및', 'Noun'), ('수학', 'Noun'), ('적', 'Suffix'), ('계산', 'Noun'), ('을', 'Josa'), ('위', 'Noun'), ('한', 'Josa'), ('기초', 'Noun'), ('적', 'Suffix'), ('인', 'Josa'), ('도구', 'Noun'), ('이다', 'Josa')], [('넘', 'Verb'), ('파이', 'Noun'), ('위', 'Noun'), ('에', 'Josa'), ('싸이', 'Noun'), ('파이', 'Noun'), (',', 'Punctuation'), ('판', 'Noun'), ('다스', 'Noun'), (',', 'Punctuation'), ('매트', 'Noun'), ('플롯', 'Noun'), ('라이브러리', 'Noun'), ('(', 'Punctuation'), ('Matplotlib', 'Alpha'), ('),', 'Punctuation'), ('스테츠모델스', 'Noun'), ('(', 'Punctuation'), ('Statsmodels', 'Alpha'), (')', 'Punctuation'), ('를', 'Noun'), ('포함', 'Noun'), ('한', 'Josa'), ('라이브러리', 'Noun'), ('들', 'Suffix'), ('이', 'Josa'), ('세워진다', 'Verb')], [('텐서', 'Noun'), ('플로', 'Noun'), ('(', 'Punctuation'), ('TensoFlow', 'Alpha'), (')', 'Punctuation'), (':', 'Punctuation'), ('텐서', 'Noun'), ('플로', 'Noun'), ('는', 'Josa'), ('구글', 'Noun'), ('브레인', 'Noun'), ('팀', 'Noun'), ('이', 'Josa'), ('개발', 'Noun'), ('한', 'Josa'), ('오픈', 'Noun'), ('소스', 'Noun'), ('라이브러리', 'Noun'), ('로', 'Josa'), ('주로', 'Noun'), ('파이썬', 'Noun'), ('의', 'Josa'), ('딥', 'Noun'), ('러닝', 'Noun'), ('애플리케이션', 'Noun'), ('에', 'Josa'), ('사용', 'Noun'), ('된다', 'Verb')], [('ML', 'Alpha'), ('기반', 'Noun'), ('애플리케이션', 'Noun'), ('의', 'Josa'), ('배치', 'Noun'), ('를', 'Josa'), ('돕는다', 'Verb')], [('WEKA', 'Alpha'), ('3', 'Number'), (':', 'Punctuation'), ('지식', 'Noun'), ('분석', 'Noun'), ('을', 'Josa'), ('위', 'Noun'), ('한', 'Josa'), ('와이카토', 'Noun'), ('(', 'Punctuation'), ('Waikato', 'Alpha'), (')', 'Punctuation'), ('환경', 'Noun'), ('의', 'Josa'), ('줄임말로', 'Verb'), ('데이터', 'Noun'), ('구현', 'Noun'), ('과', 'Josa'), ('처리', 'Noun'), ('도구', 'Noun'), ('를', 'Josa'), ('제공', 'Noun'), ('하는', 'Verb'), ('오픈', 'Noun'), ('소스', 'Noun'), ('소프트웨어', 'Noun'), ('이다', 'Josa')], [('예측', 'Noun'), ('모델링', 'Noun'), (',', 'Punctuation'), ('데이터', 'Noun'), ('마', 'Noun'), ('이닝', 'Noun'), ('및', 'Noun'), ('분석', 'Noun'), ('에', 'Josa'), ('주로', 'Noun'), ('사용', 'Noun'), ('한', 'Josa'), ('다', 'Adverb')], [('아파치', 'Noun'), ('스파크', 'Noun'), ('(', 'Punctuation'), ('Apache', 'Alpha'), ('Spark', 'Alpha'), (')', 'Punctuation'), (':', 'Punctuation'), ('빅데이터', 'Noun'), ('처리', 'Noun'), ('를', 'Josa'), ('위', 'Noun'), ('한', 'Josa'), ('사용', 'Noun'), ('하기', 'Verb'), ('쉽고', 'Verb'), ('빠른', 'Adjective'), ('엔진', 'Noun'), ('이다', 'Josa')], [('아파치', 'Noun'), ('하둡', 'Noun'), ('맵리듀스', 'Noun'), ('(', 'Punctuation'), ('Apache', 'Alpha'), ('Hadoop', 'Alpha'), ('MapReduce', 'Alpha'), (')', 'Punctuation'), ('를', 'Noun'), ('기반', 'Noun'), ('으로', 'Josa'), ('하며', 'Verb'), ('주로', 'Noun'), ('대규모', 'Noun'), ('데이터', 'Noun'), ('셋', 'Noun'), ('을', 'Josa'), ('처리', 'Noun'), ('하는', 'Verb'), ('데', 'Noun'), ('사용', 'Noun'), ('된다', 'Verb')], [('여기', 'Noun'), ('에', 'Josa'), ('스파크', 'Noun'), ('SQL', 'Alpha'), (',', 'Punctuation'), ('스파크', 'Noun'), ('스트리밍', 'Noun'), (',', 'Punctuation'), ('스파크', 'Noun'), ('머신', 'Noun'), ('러닝', 'Noun'), ('라이브러리', 'Noun'), ('등', 'Noun'), ('의', 'Josa'), ('모듈', 'Noun'), ('이', 'Josa'), ('내장', 'Noun'), ('되어있다', 'Verb')], [('자바', 'Noun'), ('머신', 'Noun'), ('러닝', 'Noun'), ('(', 'Punctuation'), ('Java', 'Alpha'), ('Machine', 'Alpha'), ('Learning', 'Alpha'), ('):', 'Punctuation'), ('자바', 'Noun'), ('머신', 'Noun'), ('러닝', 'Noun'), ('라이브러리', 'Noun'), ('는', 'Josa'), ('데이터', 'Noun'), ('분류', 'Noun'), (',', 'Punctuation'), ('처리', 'Noun'), ('및', 'Noun'), ('클러', 'Verb'), ('스팅', 'Noun'), ('에', 'Josa'), ('사용', 'Noun'), ('할', 'Verb'), ('수', 'Noun'), ('있는', 'Adjective'), ('방대한', 'Adjective'), ('머신', 'Noun'), ('러닝', 'Noun'), ('및', 'Noun'), ('데이터', 'Noun'), ('마', 'Noun'), ('이닝', 'Noun'), ('알고리즘', 'Noun'), ('을', 'Josa'), ('제공', 'Noun'), ('한', 'Josa'), ('다', 'Adverb')], [('딥', 'Noun'), ('러닝', 'Noun'), ('4', 'Number'), ('j', 'Alpha'), ('(', 'Punctuation'), ('Deeplearning', 'Alpha'), ('4', 'Number'), ('j', 'Alpha'), ('):', 'Punctuation'), ('딥', 'Noun'), ('러닝', 'Noun'), ('4', 'Number'), ('j', 'Alpha'), ('는', 'Verb'), ('자바', 'Noun'), ('프로그래머', 'Noun'), ('들', 'Suffix'), ('이', 'Josa'), ('머신', 'Noun'), ('러닝', 'Noun'), ('애플리케이션', 'Noun'), ('을', 'Josa'), ('만들', 'Verb'), ('수', 'Noun'), ('있도록', 'Adjective'), ('도와주는', 'Verb'), ('오픈', 'Noun'), ('소스', 'Noun'), ('라이브러리', 'Noun'), ('이다', 'Josa')], [('파이썬', 'Noun'), ('의', 'Josa'), ('학습', 'Noun'), ('곡선', 'Noun'), ('이', 'Josa'), ('자바', 'Noun'), ('만큼', 'Josa'), ('가파르', 'Noun'), ('지', 'Josa'), ('않기', 'Verb'), ('때문', 'Noun'), ('에', 'Josa'), (',', 'Punctuation'), ('머신', 'Noun'), ('러닝', 'Noun'), ('프로그래머', 'Noun'), (',', 'Punctuation'), ('특히', 'Adverb'), ('초보자', 'Noun'), ('들', 'Suffix'), ('은', 'Josa'), ('자바', 'Noun'), ('보다', 'Josa'), ('파이썬', 'Noun'), ('을', 'Josa'), ('선호', 'Noun'), ('한다', 'Verb')], [('실제', 'Noun'), ('로', 'Josa'), ('파이썬', 'Noun'), ('은', 'Josa'), (\"'\", 'Punctuation'), ('초보자', 'Noun'), ('언어', 'Noun'), (\"'\", 'Punctuation'), ('로', 'Noun'), ('꼽히는데', 'Verb'), (',', 'Punctuation'), ('머신', 'Noun'), ('러닝', 'Noun'), ('과', 'Josa'), ('데이터', 'Noun'), ('사이언스', 'Noun'), ('온라인', 'Noun'), ('학습', 'Noun'), ('강좌', 'Noun'), ('대부분', 'Noun'), ('이', 'Josa'), ('초보자', 'Noun'), ('친', 'Noun'), ('화', 'Suffix'), ('적', 'Noun'), ('기능', 'Noun'), ('을', 'Josa'), ('위해', 'Noun'), ('파이썬', 'Noun'), ('을', 'Josa'), ('강조', 'Noun'), ('하고', 'Josa'), ('있어', 'Adjective'), ('데이터', 'Noun'), ('과학', 'Noun'), ('분야', 'Noun'), ('에서', 'Josa'), ('파이썬', 'Noun'), ('의', 'Josa'), ('인기', 'Noun'), ('가', 'Josa'), ('높아지고', 'Verb'), ('있다', 'Adjective')], [('한편', 'Noun'), ('연구자', 'Noun'), ('들', 'Suffix'), ('은', 'Josa'), ('자신', 'Noun'), ('만의', 'Josa'), ('라이브러리', 'Noun'), ('를', 'Josa'), ('만들', 'Verb'), ('때', 'Noun'), ('깃허브', 'Noun'), ('(', 'Punctuation'), ('GitHub', 'Alpha'), (')', 'Punctuation'), ('와', 'Verb'), ('같은', 'Adjective'), ('오픈', 'Noun'), ('소스', 'Noun'), ('플랫폼', 'Noun'), ('에', 'Josa'), ('업로드', 'Noun'), ('한다', 'Verb')], [('이러한', 'Adjective'), ('대규모', 'Noun'), ('개발자', 'Noun'), ('컴퓨니티', 'Noun'), ('지원', 'Noun'), ('으로', 'Josa'), ('머신', 'Noun'), ('러닝', 'Noun'), ('애플리케이션', 'Noun'), ('을', 'Josa'), ('개발', 'Noun'), ('할', 'Verb'), ('때', 'Noun'), ('파이썬', 'Noun'), ('을', 'Josa'), ('사용', 'Noun'), ('하는', 'Verb'), ('것', 'Noun'), ('이', 'Josa'), ('더', 'Noun'), ('용이해진다', 'Adjective')], []]\n",
            "time : 0.29596495628356934\n"
          ]
        }
      ]
    },
    {
      "cell_type": "markdown",
      "metadata": {
        "id": "MIQmH1T3Xl7v"
      },
      "source": [
        "# 병렬처리가 더 짧은 모습을 보여준다!\n",
        "\n",
        "컴퓨터 사양이 더 좋아 코어수가 늘어나면 병렬처리 했을떄 더 짧은 수행시간을 기대할 수 있을 것 같음"
      ]
    },
    {
      "cell_type": "code",
      "metadata": {
        "id": "RRVZ_X1DXjcE"
      },
      "source": [
        ""
      ],
      "execution_count": null,
      "outputs": []
    },
    {
      "cell_type": "code",
      "metadata": {
        "id": "d-BclivTXjZE"
      },
      "source": [
        ""
      ],
      "execution_count": null,
      "outputs": []
    }
  ]
}